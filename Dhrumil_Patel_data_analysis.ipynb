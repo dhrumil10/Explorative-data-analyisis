{
 "cells": [
  {
   "cell_type": "markdown",
   "id": "299db59b-bf65-416f-9744-c625a8f9c6d3",
   "metadata": {},
   "source": [
    "<h3><b><centre>  EDA class Presentation by<br>\n",
    "    Dhrumil Patel<br>\n",
    "    NUId-02776451\n",
    "    </centre></b></h3>"
   ]
  },
  {
   "cell_type": "code",
   "execution_count": 1,
   "id": "99969009-c9a2-459f-a495-bfffa60e35b8",
   "metadata": {
    "tags": []
   },
   "outputs": [],
   "source": [
    "# data manipulation\n",
    "import pandas as pd\n",
    "import numpy as np\n",
    "\n",
    "# data visualization\n",
    "import matplotlib.pyplot as plt\n",
    "from matplotlib import rcParams\n",
    "import seaborn as sns\n",
    "\n",
    "# apply some cool styling\n",
    "plt.style.use(\"ggplot\")\n",
    "rcParams['figure.figsize'] = (12, 6)\n"
   ]
  },
  {
   "cell_type": "markdown",
   "id": "6ef45e67-aed1-47b1-85db-362b605d9d6a",
   "metadata": {},
   "source": [
    "<h4><b>   Importing files and package     </b></h4>"
   ]
  },
  {
   "cell_type": "code",
   "execution_count": 2,
   "id": "fae667ff-f8df-428f-88ea-068c8445ed78",
   "metadata": {},
   "outputs": [],
   "source": [
    "df1 = pd.read_csv('B08CGYFB2Q_VitamaticMelatonin20mgTablets.csv')\n",
    "df2 = pd.read_csv('B08451719W_CarlyleMelatonin12mgFastDissolve300Tablets.csv')\n",
    "df3 = pd.read_csv('B07PF1SN5B_vitafusionMaxStrengthMelatoninGummySupplements.csv')\n",
    "df4 = pd.read_csv('B07N46LTJJ_ZzzQuilPureZzzsMelatoninSleepAidGummies.csv')\n",
    "df5 = pd.read_csv('B07GR9WBFY_CarlyleMelatonin12mgFastDissolve180Tablets.csv')\n",
    "df6 = pd.read_csv('B079TD7HG2_NatrolMelatoninSleepAidGummy.csv')\n",
    "df7 = pd.read_csv('B00K8K937I_PuritansPrideSuperStrengthRapidReleaseCapsules Melatonin.csv')\n",
    "lst = [df1,df2,df3,df4,df5,df6,df7]"
   ]
  },
  {
   "cell_type": "code",
   "execution_count": 3,
   "id": "ac906213-42cd-4723-80d3-8c8271fb84b6",
   "metadata": {
    "tags": []
   },
   "outputs": [
    {
     "name": "stdout",
     "output_type": "stream",
     "text": [
      "Merged DataFrame:\n"
     ]
    },
    {
     "data": {
      "text/html": [
       "<div>\n",
       "<style scoped>\n",
       "    .dataframe tbody tr th:only-of-type {\n",
       "        vertical-align: middle;\n",
       "    }\n",
       "\n",
       "    .dataframe tbody tr th {\n",
       "        vertical-align: top;\n",
       "    }\n",
       "\n",
       "    .dataframe thead th {\n",
       "        text-align: right;\n",
       "    }\n",
       "</style>\n",
       "<table border=\"1\" class=\"dataframe\">\n",
       "  <thead>\n",
       "    <tr style=\"text-align: right;\">\n",
       "      <th></th>\n",
       "      <th>asin</th>\n",
       "      <th>product_title</th>\n",
       "      <th>average_rating</th>\n",
       "      <th>total_reviews</th>\n",
       "      <th>review_author</th>\n",
       "      <th>author_badge</th>\n",
       "      <th>badge</th>\n",
       "      <th>reviewed_product_attribute</th>\n",
       "      <th>reviewed_variant_asin</th>\n",
       "      <th>variant_review_url</th>\n",
       "      <th>...</th>\n",
       "      <th>reviewed_country</th>\n",
       "      <th>review_text</th>\n",
       "      <th>review_comment_count</th>\n",
       "      <th>review_header</th>\n",
       "      <th>no_of_people_reacted_helpful</th>\n",
       "      <th>author_profile_url</th>\n",
       "      <th>url</th>\n",
       "      <th>brand</th>\n",
       "      <th>review_url</th>\n",
       "      <th>input</th>\n",
       "    </tr>\n",
       "  </thead>\n",
       "  <tbody>\n",
       "    <tr>\n",
       "      <th>0</th>\n",
       "      <td>B08CGYFB2Q</td>\n",
       "      <td>Vitamatic Melatonin 20mg Tablets | Vegetarian,...</td>\n",
       "      <td>4.5</td>\n",
       "      <td>1033</td>\n",
       "      <td>Elaine L. Parsons</td>\n",
       "      <td>NaN</td>\n",
       "      <td>Verified Purchase</td>\n",
       "      <td>Size: 120 Count (Pack of 2)</td>\n",
       "      <td>B08CSYJ3FZ</td>\n",
       "      <td>https://www.amazon.com/Vitamatic-Melatonin-Tab...</td>\n",
       "      <td>...</td>\n",
       "      <td>United States</td>\n",
       "      <td>20mg in one pill/dose. Easy to swallow. Grape ...</td>\n",
       "      <td>NaN</td>\n",
       "      <td>Right dose</td>\n",
       "      <td>NaN</td>\n",
       "      <td>https://www.amazon.com/gp/profile/amzn1.accoun...</td>\n",
       "      <td>https://www.amazon.com/product-reviews/B08CGYF...</td>\n",
       "      <td>Vitamatic</td>\n",
       "      <td>https://www.amazon.com/gp/customer-reviews/R1R...</td>\n",
       "      <td>B08CGYFB2Q</td>\n",
       "    </tr>\n",
       "    <tr>\n",
       "      <th>1</th>\n",
       "      <td>B08CGYFB2Q</td>\n",
       "      <td>Vitamatic Melatonin 20mg Tablets | Vegetarian,...</td>\n",
       "      <td>4.5</td>\n",
       "      <td>1033</td>\n",
       "      <td>Garou</td>\n",
       "      <td>NaN</td>\n",
       "      <td>Verified Purchase</td>\n",
       "      <td>Size: 120 Count (Pack of 1)</td>\n",
       "      <td>B08CGYFB2Q</td>\n",
       "      <td>https://www.amazon.com/Vitamatic-Melatonin-Tab...</td>\n",
       "      <td>...</td>\n",
       "      <td>United States</td>\n",
       "      <td>Sleep aid</td>\n",
       "      <td>NaN</td>\n",
       "      <td>It works as advertized.</td>\n",
       "      <td>NaN</td>\n",
       "      <td>https://www.amazon.com/gp/profile/amzn1.accoun...</td>\n",
       "      <td>https://www.amazon.com/product-reviews/B08CGYF...</td>\n",
       "      <td>Vitamatic</td>\n",
       "      <td>https://www.amazon.com/gp/customer-reviews/RSG...</td>\n",
       "      <td>B08CGYFB2Q</td>\n",
       "    </tr>\n",
       "    <tr>\n",
       "      <th>2</th>\n",
       "      <td>B08CGYFB2Q</td>\n",
       "      <td>Vitamatic Melatonin 20mg Tablets | Vegetarian,...</td>\n",
       "      <td>4.5</td>\n",
       "      <td>1033</td>\n",
       "      <td>Lila Cossey</td>\n",
       "      <td>NaN</td>\n",
       "      <td>Verified Purchase</td>\n",
       "      <td>Size: 120 Count (Pack of 1)</td>\n",
       "      <td>B08CGYFB2Q</td>\n",
       "      <td>https://www.amazon.com/Vitamatic-Melatonin-Tab...</td>\n",
       "      <td>...</td>\n",
       "      <td>United States</td>\n",
       "      <td>Me and my husband have been taking this for aw...</td>\n",
       "      <td>NaN</td>\n",
       "      <td>Good Sleep!!</td>\n",
       "      <td>NaN</td>\n",
       "      <td>https://www.amazon.com/gp/profile/amzn1.accoun...</td>\n",
       "      <td>https://www.amazon.com/product-reviews/B08CGYF...</td>\n",
       "      <td>Vitamatic</td>\n",
       "      <td>https://www.amazon.com/gp/customer-reviews/RF1...</td>\n",
       "      <td>B08CGYFB2Q</td>\n",
       "    </tr>\n",
       "    <tr>\n",
       "      <th>3</th>\n",
       "      <td>B08CGYFB2Q</td>\n",
       "      <td>Vitamatic Melatonin 20mg Tablets | Vegetarian,...</td>\n",
       "      <td>4.5</td>\n",
       "      <td>1033</td>\n",
       "      <td>duff</td>\n",
       "      <td>NaN</td>\n",
       "      <td>Verified Purchase</td>\n",
       "      <td>NaN</td>\n",
       "      <td>NaN</td>\n",
       "      <td>NaN</td>\n",
       "      <td>...</td>\n",
       "      <td>United States</td>\n",
       "      <td>product works as advertised</td>\n",
       "      <td>NaN</td>\n",
       "      <td>works</td>\n",
       "      <td>NaN</td>\n",
       "      <td>https://www.amazon.com/gp/profile/amzn1.accoun...</td>\n",
       "      <td>https://www.amazon.com/product-reviews/B08CGYF...</td>\n",
       "      <td>Vitamatic</td>\n",
       "      <td>https://www.amazon.com/gp/customer-reviews/R1L...</td>\n",
       "      <td>B08CGYFB2Q</td>\n",
       "    </tr>\n",
       "    <tr>\n",
       "      <th>4</th>\n",
       "      <td>B08CGYFB2Q</td>\n",
       "      <td>Vitamatic Melatonin 20mg Tablets | Vegetarian,...</td>\n",
       "      <td>4.5</td>\n",
       "      <td>1033</td>\n",
       "      <td>jon</td>\n",
       "      <td>NaN</td>\n",
       "      <td>Verified Purchase</td>\n",
       "      <td>Size: 120 Count (Pack of 1)</td>\n",
       "      <td>B08CGYFB2Q</td>\n",
       "      <td>https://www.amazon.com/Vitamatic-Melatonin-Tab...</td>\n",
       "      <td>...</td>\n",
       "      <td>United States</td>\n",
       "      <td>Works great with no after taste</td>\n",
       "      <td>NaN</td>\n",
       "      <td>Works great no after taste</td>\n",
       "      <td>NaN</td>\n",
       "      <td>https://www.amazon.com/gp/profile/amzn1.accoun...</td>\n",
       "      <td>https://www.amazon.com/product-reviews/B08CGYF...</td>\n",
       "      <td>Vitamatic</td>\n",
       "      <td>https://www.amazon.com/gp/customer-reviews/R3A...</td>\n",
       "      <td>B08CGYFB2Q</td>\n",
       "    </tr>\n",
       "  </tbody>\n",
       "</table>\n",
       "<p>5 rows × 22 columns</p>\n",
       "</div>"
      ],
      "text/plain": [
       "         asin                                      product_title  \\\n",
       "0  B08CGYFB2Q  Vitamatic Melatonin 20mg Tablets | Vegetarian,...   \n",
       "1  B08CGYFB2Q  Vitamatic Melatonin 20mg Tablets | Vegetarian,...   \n",
       "2  B08CGYFB2Q  Vitamatic Melatonin 20mg Tablets | Vegetarian,...   \n",
       "3  B08CGYFB2Q  Vitamatic Melatonin 20mg Tablets | Vegetarian,...   \n",
       "4  B08CGYFB2Q  Vitamatic Melatonin 20mg Tablets | Vegetarian,...   \n",
       "\n",
       "   average_rating  total_reviews      review_author author_badge  \\\n",
       "0             4.5           1033  Elaine L. Parsons          NaN   \n",
       "1             4.5           1033              Garou          NaN   \n",
       "2             4.5           1033        Lila Cossey          NaN   \n",
       "3             4.5           1033               duff          NaN   \n",
       "4             4.5           1033                jon          NaN   \n",
       "\n",
       "               badge   reviewed_product_attribute reviewed_variant_asin  \\\n",
       "0  Verified Purchase  Size: 120 Count (Pack of 2)            B08CSYJ3FZ   \n",
       "1  Verified Purchase  Size: 120 Count (Pack of 1)            B08CGYFB2Q   \n",
       "2  Verified Purchase  Size: 120 Count (Pack of 1)            B08CGYFB2Q   \n",
       "3  Verified Purchase                          NaN                   NaN   \n",
       "4  Verified Purchase  Size: 120 Count (Pack of 1)            B08CGYFB2Q   \n",
       "\n",
       "                                  variant_review_url  ...  reviewed_country  \\\n",
       "0  https://www.amazon.com/Vitamatic-Melatonin-Tab...  ...     United States   \n",
       "1  https://www.amazon.com/Vitamatic-Melatonin-Tab...  ...     United States   \n",
       "2  https://www.amazon.com/Vitamatic-Melatonin-Tab...  ...    United States    \n",
       "3                                                NaN  ...     United States   \n",
       "4  https://www.amazon.com/Vitamatic-Melatonin-Tab...  ...     United States   \n",
       "\n",
       "                                         review_text review_comment_count  \\\n",
       "0  20mg in one pill/dose. Easy to swallow. Grape ...                  NaN   \n",
       "1                                          Sleep aid                  NaN   \n",
       "2  Me and my husband have been taking this for aw...                  NaN   \n",
       "3                        product works as advertised                  NaN   \n",
       "4                    Works great with no after taste                  NaN   \n",
       "\n",
       "                review_header  no_of_people_reacted_helpful  \\\n",
       "0                  Right dose                           NaN   \n",
       "1     It works as advertized.                           NaN   \n",
       "2                Good Sleep!!                           NaN   \n",
       "3                       works                           NaN   \n",
       "4  Works great no after taste                           NaN   \n",
       "\n",
       "                                  author_profile_url  \\\n",
       "0  https://www.amazon.com/gp/profile/amzn1.accoun...   \n",
       "1  https://www.amazon.com/gp/profile/amzn1.accoun...   \n",
       "2  https://www.amazon.com/gp/profile/amzn1.accoun...   \n",
       "3  https://www.amazon.com/gp/profile/amzn1.accoun...   \n",
       "4  https://www.amazon.com/gp/profile/amzn1.accoun...   \n",
       "\n",
       "                                                 url      brand  \\\n",
       "0  https://www.amazon.com/product-reviews/B08CGYF...  Vitamatic   \n",
       "1  https://www.amazon.com/product-reviews/B08CGYF...  Vitamatic   \n",
       "2  https://www.amazon.com/product-reviews/B08CGYF...  Vitamatic   \n",
       "3  https://www.amazon.com/product-reviews/B08CGYF...  Vitamatic   \n",
       "4  https://www.amazon.com/product-reviews/B08CGYF...  Vitamatic   \n",
       "\n",
       "                                          review_url       input  \n",
       "0  https://www.amazon.com/gp/customer-reviews/R1R...  B08CGYFB2Q  \n",
       "1  https://www.amazon.com/gp/customer-reviews/RSG...  B08CGYFB2Q  \n",
       "2  https://www.amazon.com/gp/customer-reviews/RF1...  B08CGYFB2Q  \n",
       "3  https://www.amazon.com/gp/customer-reviews/R1L...  B08CGYFB2Q  \n",
       "4  https://www.amazon.com/gp/customer-reviews/R3A...  B08CGYFB2Q  \n",
       "\n",
       "[5 rows x 22 columns]"
      ]
     },
     "execution_count": 3,
     "metadata": {},
     "output_type": "execute_result"
    }
   ],
   "source": [
    "# Initialize an empty DataFrame\n",
    "merged_df = pd.DataFrame()\n",
    "\n",
    "# Iterate through each file and concatenate into the merged DataFrame\n",
    "for i in lst:\n",
    "    merged_df = pd.concat([merged_df, i], ignore_index=True)\n",
    "\n",
    "# Display the merged DataFrame\n",
    "print(\"Merged DataFrame:\")\n",
    "merged_df.head()\n"
   ]
  },
  {
   "cell_type": "code",
   "execution_count": 4,
   "id": "37bd1fa0-3c08-4c9f-aab7-ab569acfad9f",
   "metadata": {
    "tags": []
   },
   "outputs": [
    {
     "name": "stdout",
     "output_type": "stream",
     "text": [
      "all columns are same\n"
     ]
    }
   ],
   "source": [
    "\n",
    "if df1.columns.all() == df6.columns.all() and df1.columns.all() == df2.columns.all() and df1.columns.all() == df3.columns.all() and df1.columns.all() == df4.columns.all() and df1.columns.all() == df5.columns.all() and df1.columns.all() == df6.columns.all() and df1.columns.all() == df7.columns.all() :\n",
    "    print('all columns are same')"
   ]
  },
  {
   "cell_type": "code",
   "execution_count": null,
   "id": "8bd72baf-88a0-4abd-bd66-15767b2217b5",
   "metadata": {
    "tags": []
   },
   "outputs": [],
   "source": []
  },
  {
   "cell_type": "code",
   "execution_count": null,
   "id": "3eec295d-ac3d-4039-81d4-e99722bc590c",
   "metadata": {},
   "outputs": [],
   "source": []
  },
  {
   "cell_type": "code",
   "execution_count": null,
   "id": "e2bb113e-08b6-4010-b41f-6dd19a1d2684",
   "metadata": {},
   "outputs": [],
   "source": []
  },
  {
   "cell_type": "code",
   "execution_count": null,
   "id": "063274aa-caa3-49bb-8207-a657073767e6",
   "metadata": {},
   "outputs": [],
   "source": []
  },
  {
   "cell_type": "code",
   "execution_count": null,
   "id": "cd0977ee-e96a-496b-8f8c-d99341b90078",
   "metadata": {},
   "outputs": [],
   "source": []
  },
  {
   "cell_type": "code",
   "execution_count": null,
   "id": "841365b2-9bef-49d6-92d6-b12eaeef657e",
   "metadata": {},
   "outputs": [],
   "source": []
  },
  {
   "cell_type": "code",
   "execution_count": null,
   "id": "7d04fb4f-7e34-46f5-8e6b-3e65363bccce",
   "metadata": {},
   "outputs": [],
   "source": []
  },
  {
   "cell_type": "code",
   "execution_count": null,
   "id": "b7dc964d-2949-40d3-ac8c-c2cec65f8009",
   "metadata": {},
   "outputs": [],
   "source": []
  },
  {
   "cell_type": "code",
   "execution_count": null,
   "id": "379446fa-e9e3-435d-a140-2c8dde10c90c",
   "metadata": {},
   "outputs": [],
   "source": []
  },
  {
   "cell_type": "code",
   "execution_count": null,
   "id": "8c492270-194d-4527-a9df-845b87276fba",
   "metadata": {},
   "outputs": [],
   "source": []
  },
  {
   "cell_type": "code",
   "execution_count": null,
   "id": "72e441f8-fa04-4994-bcf5-0b2ccce8ec51",
   "metadata": {},
   "outputs": [],
   "source": []
  },
  {
   "cell_type": "code",
   "execution_count": null,
   "id": "159c3949-784d-4e3c-9552-bec79c21ce52",
   "metadata": {},
   "outputs": [],
   "source": []
  },
  {
   "cell_type": "code",
   "execution_count": null,
   "id": "1a86fe0c-7dbd-42a1-ae4d-d35836a3b6ac",
   "metadata": {},
   "outputs": [],
   "source": []
  },
  {
   "cell_type": "code",
   "execution_count": 5,
   "id": "f03eb8a7-aa58-40a2-bc39-efc14d632476",
   "metadata": {
    "tags": []
   },
   "outputs": [
    {
     "data": {
      "text/plain": [
       "asin                                7\n",
       "product_title                       7\n",
       "average_rating                      3\n",
       "total_reviews                       7\n",
       "review_author                   12983\n",
       "author_badge                        1\n",
       "badge                               1\n",
       "reviewed_product_attribute         12\n",
       "reviewed_variant_asin              14\n",
       "variant_review_url                 14\n",
       "review_rating                       5\n",
       "review_date                      2430\n",
       "reviewed_country                    2\n",
       "review_text                     14981\n",
       "review_comment_count                0\n",
       "review_header                   10620\n",
       "no_of_people_reacted_helpful      127\n",
       "author_profile_url              15636\n",
       "url                              1591\n",
       "brand                               6\n",
       "review_url                      15910\n",
       "input                               7\n",
       "dtype: int64"
      ]
     },
     "execution_count": 5,
     "metadata": {},
     "output_type": "execute_result"
    }
   ],
   "source": [
    "merged_df.nunique()"
   ]
  },
  {
   "cell_type": "code",
   "execution_count": null,
   "id": "a1ec7521-6eb0-4299-93a0-9da6ad11147f",
   "metadata": {
    "tags": []
   },
   "outputs": [],
   "source": []
  },
  {
   "cell_type": "code",
   "execution_count": null,
   "id": "5905ba9e-1188-4976-a987-46176883c893",
   "metadata": {},
   "outputs": [],
   "source": []
  },
  {
   "cell_type": "code",
   "execution_count": null,
   "id": "7a8f3b09-8d88-490d-a156-14ee68e9d740",
   "metadata": {},
   "outputs": [],
   "source": []
  },
  {
   "cell_type": "code",
   "execution_count": null,
   "id": "4f7bb098-1684-4851-9c1c-ced500efaa9d",
   "metadata": {},
   "outputs": [],
   "source": []
  },
  {
   "cell_type": "code",
   "execution_count": null,
   "id": "8bab3202-56d8-444c-88d9-e6e173cf15c5",
   "metadata": {},
   "outputs": [],
   "source": []
  },
  {
   "cell_type": "code",
   "execution_count": null,
   "id": "cb188f3e-5b3e-4a96-86b6-85e696ae3283",
   "metadata": {},
   "outputs": [],
   "source": []
  },
  {
   "cell_type": "code",
   "execution_count": null,
   "id": "1ad6b862-3e28-44fb-b11b-8b8695da0e44",
   "metadata": {},
   "outputs": [],
   "source": []
  },
  {
   "cell_type": "code",
   "execution_count": null,
   "id": "3355a318-f080-412f-9b66-7a30b9119d1a",
   "metadata": {},
   "outputs": [],
   "source": []
  },
  {
   "cell_type": "code",
   "execution_count": null,
   "id": "5731ddf7-98e0-4ec0-87d0-3b2cd5f8f504",
   "metadata": {},
   "outputs": [],
   "source": []
  },
  {
   "cell_type": "code",
   "execution_count": null,
   "id": "4989557d-80a1-450f-a3dc-6d60ce6b0648",
   "metadata": {},
   "outputs": [],
   "source": []
  },
  {
   "cell_type": "code",
   "execution_count": null,
   "id": "f390c5f7-766b-4597-abc1-59f0a6253160",
   "metadata": {},
   "outputs": [],
   "source": []
  },
  {
   "cell_type": "code",
   "execution_count": null,
   "id": "3299ba79-0139-410f-9b89-fc8cacd6a232",
   "metadata": {},
   "outputs": [],
   "source": []
  },
  {
   "cell_type": "code",
   "execution_count": null,
   "id": "63fb98b3-4fc2-4d00-bd38-8226b08ecb2b",
   "metadata": {},
   "outputs": [],
   "source": []
  },
  {
   "cell_type": "code",
   "execution_count": null,
   "id": "abbe0b14-7cf1-4a82-b90f-5a0cc6705f47",
   "metadata": {},
   "outputs": [],
   "source": []
  },
  {
   "cell_type": "code",
   "execution_count": null,
   "id": "be9b6089-4d0a-412c-8db7-8042cfa63393",
   "metadata": {},
   "outputs": [],
   "source": [
    " "
   ]
  },
  {
   "cell_type": "code",
   "execution_count": null,
   "id": "059a59a6-1a5e-4ac5-a26a-0bfc8b9004a0",
   "metadata": {},
   "outputs": [],
   "source": []
  },
  {
   "cell_type": "code",
   "execution_count": null,
   "id": "49791f61-c2d1-4406-b672-976b2943cf5c",
   "metadata": {},
   "outputs": [],
   "source": []
  },
  {
   "cell_type": "code",
   "execution_count": null,
   "id": "f6107c01-5e53-443e-8e0e-50e333b5984b",
   "metadata": {},
   "outputs": [],
   "source": []
  },
  {
   "cell_type": "code",
   "execution_count": null,
   "id": "55d138e2-2c0d-4bba-a944-e7afe6c5331c",
   "metadata": {},
   "outputs": [],
   "source": []
  },
  {
   "cell_type": "code",
   "execution_count": null,
   "id": "94473e2f-cb0e-4050-af7e-17eb018a6190",
   "metadata": {},
   "outputs": [],
   "source": []
  },
  {
   "cell_type": "code",
   "execution_count": null,
   "id": "cebec81e-98f7-4ce2-b630-af4010287e3d",
   "metadata": {},
   "outputs": [],
   "source": []
  },
  {
   "cell_type": "code",
   "execution_count": 6,
   "id": "dc0b2b7b-9692-4cd7-b1c2-f187edde9062",
   "metadata": {
    "tags": []
   },
   "outputs": [
    {
     "data": {
      "text/plain": [
       "asin                                0\n",
       "product_title                       0\n",
       "average_rating                      0\n",
       "total_reviews                       0\n",
       "review_author                       0\n",
       "author_badge                    15808\n",
       "badge                             309\n",
       "reviewed_product_attribute       2095\n",
       "reviewed_variant_asin            2095\n",
       "variant_review_url               2095\n",
       "review_rating                       0\n",
       "review_date                         0\n",
       "reviewed_country                    0\n",
       "review_text                        28\n",
       "review_comment_count            15910\n",
       "review_header                       5\n",
       "no_of_people_reacted_helpful    13149\n",
       "author_profile_url                  0\n",
       "url                                 0\n",
       "brand                               0\n",
       "review_url                          0\n",
       "input                               0\n",
       "dtype: int64"
      ]
     },
     "execution_count": 6,
     "metadata": {},
     "output_type": "execute_result"
    }
   ],
   "source": [
    "#  null values values\n",
    "merged_df.isnull().sum()"
   ]
  },
  {
   "cell_type": "code",
   "execution_count": null,
   "id": "f90ba136-def8-4b19-b712-1bdf9e17048e",
   "metadata": {},
   "outputs": [],
   "source": []
  },
  {
   "cell_type": "code",
   "execution_count": null,
   "id": "e119ad85-0b86-4f08-8d46-5d74b7052f1d",
   "metadata": {},
   "outputs": [],
   "source": []
  },
  {
   "cell_type": "code",
   "execution_count": null,
   "id": "2d838a6d-4965-4cd7-9a18-44be529ac225",
   "metadata": {},
   "outputs": [],
   "source": []
  },
  {
   "cell_type": "code",
   "execution_count": null,
   "id": "574c7dde-0466-4c2c-8c8c-d19b23d08ebe",
   "metadata": {},
   "outputs": [],
   "source": []
  },
  {
   "cell_type": "code",
   "execution_count": null,
   "id": "5c56eb66-5cad-4c2d-8728-4cedde9a098e",
   "metadata": {},
   "outputs": [],
   "source": []
  },
  {
   "cell_type": "code",
   "execution_count": null,
   "id": "63ee7012-f7dc-44f8-963e-aa842ebc36e0",
   "metadata": {},
   "outputs": [],
   "source": []
  },
  {
   "cell_type": "code",
   "execution_count": null,
   "id": "ac4844a5-2628-4ed1-b1e9-fa7cbc0937ec",
   "metadata": {},
   "outputs": [],
   "source": []
  },
  {
   "cell_type": "code",
   "execution_count": null,
   "id": "d950a19d-42bd-447f-a3ae-7f47098b0299",
   "metadata": {},
   "outputs": [],
   "source": []
  },
  {
   "cell_type": "code",
   "execution_count": null,
   "id": "de1cec8c-281b-4dea-8447-a8598c2a1629",
   "metadata": {},
   "outputs": [],
   "source": []
  },
  {
   "cell_type": "code",
   "execution_count": null,
   "id": "b0604aa3-07c8-45d5-a673-ef144d1d25ee",
   "metadata": {},
   "outputs": [],
   "source": []
  },
  {
   "cell_type": "code",
   "execution_count": null,
   "id": "6a498e8c-53a3-4e93-a25c-224b697ed55c",
   "metadata": {},
   "outputs": [],
   "source": []
  },
  {
   "cell_type": "code",
   "execution_count": null,
   "id": "3286b4db-7ff7-4249-880e-8103b6ee4f7d",
   "metadata": {},
   "outputs": [],
   "source": []
  },
  {
   "cell_type": "code",
   "execution_count": null,
   "id": "784b5c0d-8f40-420e-98d1-d300a316921b",
   "metadata": {},
   "outputs": [],
   "source": []
  },
  {
   "cell_type": "code",
   "execution_count": null,
   "id": "3b27c320-2805-4008-8ef6-c57ac341a047",
   "metadata": {},
   "outputs": [],
   "source": []
  },
  {
   "cell_type": "code",
   "execution_count": null,
   "id": "de6b2085-463e-41e0-9605-5106a91f8a7d",
   "metadata": {},
   "outputs": [],
   "source": []
  },
  {
   "cell_type": "code",
   "execution_count": null,
   "id": "d181dda3-26d4-4ad9-b378-6e0bde9e8130",
   "metadata": {},
   "outputs": [],
   "source": []
  },
  {
   "cell_type": "code",
   "execution_count": 7,
   "id": "5b2793fb-d6ec-44e6-ae4e-2ce1e0c5698b",
   "metadata": {
    "tags": []
   },
   "outputs": [
    {
     "data": {
      "text/html": [
       "<div>\n",
       "<style scoped>\n",
       "    .dataframe tbody tr th:only-of-type {\n",
       "        vertical-align: middle;\n",
       "    }\n",
       "\n",
       "    .dataframe tbody tr th {\n",
       "        vertical-align: top;\n",
       "    }\n",
       "\n",
       "    .dataframe thead th {\n",
       "        text-align: right;\n",
       "    }\n",
       "</style>\n",
       "<table border=\"1\" class=\"dataframe\">\n",
       "  <thead>\n",
       "    <tr style=\"text-align: right;\">\n",
       "      <th></th>\n",
       "      <th>asin</th>\n",
       "      <th>product_title</th>\n",
       "      <th>average_rating</th>\n",
       "      <th>total_reviews</th>\n",
       "      <th>review_author</th>\n",
       "      <th>author_badge</th>\n",
       "      <th>badge</th>\n",
       "      <th>reviewed_product_attribute</th>\n",
       "      <th>reviewed_variant_asin</th>\n",
       "      <th>variant_review_url</th>\n",
       "      <th>...</th>\n",
       "      <th>reviewed_country</th>\n",
       "      <th>review_text</th>\n",
       "      <th>review_comment_count</th>\n",
       "      <th>review_header</th>\n",
       "      <th>no_of_people_reacted_helpful</th>\n",
       "      <th>author_profile_url</th>\n",
       "      <th>url</th>\n",
       "      <th>brand</th>\n",
       "      <th>review_url</th>\n",
       "      <th>input</th>\n",
       "    </tr>\n",
       "  </thead>\n",
       "  <tbody>\n",
       "    <tr>\n",
       "      <th>0</th>\n",
       "      <td>B08CGYFB2Q</td>\n",
       "      <td>Vitamatic Melatonin 20mg Tablets | Vegetarian,...</td>\n",
       "      <td>4.5</td>\n",
       "      <td>1033</td>\n",
       "      <td>Elaine L. Parsons</td>\n",
       "      <td>NaN</td>\n",
       "      <td>Verified Purchase</td>\n",
       "      <td>Size: 120 Count (Pack of 2)</td>\n",
       "      <td>B08CSYJ3FZ</td>\n",
       "      <td>https://www.amazon.com/Vitamatic-Melatonin-Tab...</td>\n",
       "      <td>...</td>\n",
       "      <td>United States</td>\n",
       "      <td>20mg in one pill/dose. Easy to swallow. Grape ...</td>\n",
       "      <td>NaN</td>\n",
       "      <td>Right dose</td>\n",
       "      <td>NaN</td>\n",
       "      <td>https://www.amazon.com/gp/profile/amzn1.accoun...</td>\n",
       "      <td>https://www.amazon.com/product-reviews/B08CGYF...</td>\n",
       "      <td>Vitamatic</td>\n",
       "      <td>https://www.amazon.com/gp/customer-reviews/R1R...</td>\n",
       "      <td>B08CGYFB2Q</td>\n",
       "    </tr>\n",
       "    <tr>\n",
       "      <th>1</th>\n",
       "      <td>B08CGYFB2Q</td>\n",
       "      <td>Vitamatic Melatonin 20mg Tablets | Vegetarian,...</td>\n",
       "      <td>4.5</td>\n",
       "      <td>1033</td>\n",
       "      <td>Garou</td>\n",
       "      <td>NaN</td>\n",
       "      <td>Verified Purchase</td>\n",
       "      <td>Size: 120 Count (Pack of 1)</td>\n",
       "      <td>B08CGYFB2Q</td>\n",
       "      <td>https://www.amazon.com/Vitamatic-Melatonin-Tab...</td>\n",
       "      <td>...</td>\n",
       "      <td>United States</td>\n",
       "      <td>Sleep aid</td>\n",
       "      <td>NaN</td>\n",
       "      <td>It works as advertized.</td>\n",
       "      <td>NaN</td>\n",
       "      <td>https://www.amazon.com/gp/profile/amzn1.accoun...</td>\n",
       "      <td>https://www.amazon.com/product-reviews/B08CGYF...</td>\n",
       "      <td>Vitamatic</td>\n",
       "      <td>https://www.amazon.com/gp/customer-reviews/RSG...</td>\n",
       "      <td>B08CGYFB2Q</td>\n",
       "    </tr>\n",
       "    <tr>\n",
       "      <th>2</th>\n",
       "      <td>B08CGYFB2Q</td>\n",
       "      <td>Vitamatic Melatonin 20mg Tablets | Vegetarian,...</td>\n",
       "      <td>4.5</td>\n",
       "      <td>1033</td>\n",
       "      <td>Lila Cossey</td>\n",
       "      <td>NaN</td>\n",
       "      <td>Verified Purchase</td>\n",
       "      <td>Size: 120 Count (Pack of 1)</td>\n",
       "      <td>B08CGYFB2Q</td>\n",
       "      <td>https://www.amazon.com/Vitamatic-Melatonin-Tab...</td>\n",
       "      <td>...</td>\n",
       "      <td>United States</td>\n",
       "      <td>Me and my husband have been taking this for aw...</td>\n",
       "      <td>NaN</td>\n",
       "      <td>Good Sleep!!</td>\n",
       "      <td>NaN</td>\n",
       "      <td>https://www.amazon.com/gp/profile/amzn1.accoun...</td>\n",
       "      <td>https://www.amazon.com/product-reviews/B08CGYF...</td>\n",
       "      <td>Vitamatic</td>\n",
       "      <td>https://www.amazon.com/gp/customer-reviews/RF1...</td>\n",
       "      <td>B08CGYFB2Q</td>\n",
       "    </tr>\n",
       "    <tr>\n",
       "      <th>3</th>\n",
       "      <td>B08CGYFB2Q</td>\n",
       "      <td>Vitamatic Melatonin 20mg Tablets | Vegetarian,...</td>\n",
       "      <td>4.5</td>\n",
       "      <td>1033</td>\n",
       "      <td>duff</td>\n",
       "      <td>NaN</td>\n",
       "      <td>Verified Purchase</td>\n",
       "      <td>NaN</td>\n",
       "      <td>NaN</td>\n",
       "      <td>NaN</td>\n",
       "      <td>...</td>\n",
       "      <td>United States</td>\n",
       "      <td>product works as advertised</td>\n",
       "      <td>NaN</td>\n",
       "      <td>works</td>\n",
       "      <td>NaN</td>\n",
       "      <td>https://www.amazon.com/gp/profile/amzn1.accoun...</td>\n",
       "      <td>https://www.amazon.com/product-reviews/B08CGYF...</td>\n",
       "      <td>Vitamatic</td>\n",
       "      <td>https://www.amazon.com/gp/customer-reviews/R1L...</td>\n",
       "      <td>B08CGYFB2Q</td>\n",
       "    </tr>\n",
       "    <tr>\n",
       "      <th>4</th>\n",
       "      <td>B08CGYFB2Q</td>\n",
       "      <td>Vitamatic Melatonin 20mg Tablets | Vegetarian,...</td>\n",
       "      <td>4.5</td>\n",
       "      <td>1033</td>\n",
       "      <td>jon</td>\n",
       "      <td>NaN</td>\n",
       "      <td>Verified Purchase</td>\n",
       "      <td>Size: 120 Count (Pack of 1)</td>\n",
       "      <td>B08CGYFB2Q</td>\n",
       "      <td>https://www.amazon.com/Vitamatic-Melatonin-Tab...</td>\n",
       "      <td>...</td>\n",
       "      <td>United States</td>\n",
       "      <td>Works great with no after taste</td>\n",
       "      <td>NaN</td>\n",
       "      <td>Works great no after taste</td>\n",
       "      <td>NaN</td>\n",
       "      <td>https://www.amazon.com/gp/profile/amzn1.accoun...</td>\n",
       "      <td>https://www.amazon.com/product-reviews/B08CGYF...</td>\n",
       "      <td>Vitamatic</td>\n",
       "      <td>https://www.amazon.com/gp/customer-reviews/R3A...</td>\n",
       "      <td>B08CGYFB2Q</td>\n",
       "    </tr>\n",
       "  </tbody>\n",
       "</table>\n",
       "<p>5 rows × 22 columns</p>\n",
       "</div>"
      ],
      "text/plain": [
       "         asin                                      product_title  \\\n",
       "0  B08CGYFB2Q  Vitamatic Melatonin 20mg Tablets | Vegetarian,...   \n",
       "1  B08CGYFB2Q  Vitamatic Melatonin 20mg Tablets | Vegetarian,...   \n",
       "2  B08CGYFB2Q  Vitamatic Melatonin 20mg Tablets | Vegetarian,...   \n",
       "3  B08CGYFB2Q  Vitamatic Melatonin 20mg Tablets | Vegetarian,...   \n",
       "4  B08CGYFB2Q  Vitamatic Melatonin 20mg Tablets | Vegetarian,...   \n",
       "\n",
       "   average_rating  total_reviews      review_author author_badge  \\\n",
       "0             4.5           1033  Elaine L. Parsons          NaN   \n",
       "1             4.5           1033              Garou          NaN   \n",
       "2             4.5           1033        Lila Cossey          NaN   \n",
       "3             4.5           1033               duff          NaN   \n",
       "4             4.5           1033                jon          NaN   \n",
       "\n",
       "               badge   reviewed_product_attribute reviewed_variant_asin  \\\n",
       "0  Verified Purchase  Size: 120 Count (Pack of 2)            B08CSYJ3FZ   \n",
       "1  Verified Purchase  Size: 120 Count (Pack of 1)            B08CGYFB2Q   \n",
       "2  Verified Purchase  Size: 120 Count (Pack of 1)            B08CGYFB2Q   \n",
       "3  Verified Purchase                          NaN                   NaN   \n",
       "4  Verified Purchase  Size: 120 Count (Pack of 1)            B08CGYFB2Q   \n",
       "\n",
       "                                  variant_review_url  ...  reviewed_country  \\\n",
       "0  https://www.amazon.com/Vitamatic-Melatonin-Tab...  ...     United States   \n",
       "1  https://www.amazon.com/Vitamatic-Melatonin-Tab...  ...     United States   \n",
       "2  https://www.amazon.com/Vitamatic-Melatonin-Tab...  ...    United States    \n",
       "3                                                NaN  ...     United States   \n",
       "4  https://www.amazon.com/Vitamatic-Melatonin-Tab...  ...     United States   \n",
       "\n",
       "                                         review_text review_comment_count  \\\n",
       "0  20mg in one pill/dose. Easy to swallow. Grape ...                  NaN   \n",
       "1                                          Sleep aid                  NaN   \n",
       "2  Me and my husband have been taking this for aw...                  NaN   \n",
       "3                        product works as advertised                  NaN   \n",
       "4                    Works great with no after taste                  NaN   \n",
       "\n",
       "                review_header  no_of_people_reacted_helpful  \\\n",
       "0                  Right dose                           NaN   \n",
       "1     It works as advertized.                           NaN   \n",
       "2                Good Sleep!!                           NaN   \n",
       "3                       works                           NaN   \n",
       "4  Works great no after taste                           NaN   \n",
       "\n",
       "                                  author_profile_url  \\\n",
       "0  https://www.amazon.com/gp/profile/amzn1.accoun...   \n",
       "1  https://www.amazon.com/gp/profile/amzn1.accoun...   \n",
       "2  https://www.amazon.com/gp/profile/amzn1.accoun...   \n",
       "3  https://www.amazon.com/gp/profile/amzn1.accoun...   \n",
       "4  https://www.amazon.com/gp/profile/amzn1.accoun...   \n",
       "\n",
       "                                                 url      brand  \\\n",
       "0  https://www.amazon.com/product-reviews/B08CGYF...  Vitamatic   \n",
       "1  https://www.amazon.com/product-reviews/B08CGYF...  Vitamatic   \n",
       "2  https://www.amazon.com/product-reviews/B08CGYF...  Vitamatic   \n",
       "3  https://www.amazon.com/product-reviews/B08CGYF...  Vitamatic   \n",
       "4  https://www.amazon.com/product-reviews/B08CGYF...  Vitamatic   \n",
       "\n",
       "                                          review_url       input  \n",
       "0  https://www.amazon.com/gp/customer-reviews/R1R...  B08CGYFB2Q  \n",
       "1  https://www.amazon.com/gp/customer-reviews/RSG...  B08CGYFB2Q  \n",
       "2  https://www.amazon.com/gp/customer-reviews/RF1...  B08CGYFB2Q  \n",
       "3  https://www.amazon.com/gp/customer-reviews/R1L...  B08CGYFB2Q  \n",
       "4  https://www.amazon.com/gp/customer-reviews/R3A...  B08CGYFB2Q  \n",
       "\n",
       "[5 rows x 22 columns]"
      ]
     },
     "execution_count": 7,
     "metadata": {},
     "output_type": "execute_result"
    }
   ],
   "source": [
    "merged_df.head()"
   ]
  },
  {
   "cell_type": "code",
   "execution_count": 8,
   "id": "99ee99c7-4173-4aaf-a397-9710f37d1052",
   "metadata": {
    "tags": []
   },
   "outputs": [
    {
     "data": {
      "text/html": [
       "<div>\n",
       "<style scoped>\n",
       "    .dataframe tbody tr th:only-of-type {\n",
       "        vertical-align: middle;\n",
       "    }\n",
       "\n",
       "    .dataframe tbody tr th {\n",
       "        vertical-align: top;\n",
       "    }\n",
       "\n",
       "    .dataframe thead th {\n",
       "        text-align: right;\n",
       "    }\n",
       "</style>\n",
       "<table border=\"1\" class=\"dataframe\">\n",
       "  <thead>\n",
       "    <tr style=\"text-align: right;\">\n",
       "      <th></th>\n",
       "      <th>asin</th>\n",
       "      <th>product_title</th>\n",
       "      <th>average_rating</th>\n",
       "      <th>total_reviews</th>\n",
       "      <th>review_author</th>\n",
       "      <th>author_badge</th>\n",
       "      <th>badge</th>\n",
       "      <th>reviewed_product_attribute</th>\n",
       "      <th>reviewed_variant_asin</th>\n",
       "      <th>variant_review_url</th>\n",
       "      <th>...</th>\n",
       "      <th>reviewed_country</th>\n",
       "      <th>review_text</th>\n",
       "      <th>review_comment_count</th>\n",
       "      <th>review_header</th>\n",
       "      <th>no_of_people_reacted_helpful</th>\n",
       "      <th>author_profile_url</th>\n",
       "      <th>url</th>\n",
       "      <th>brand</th>\n",
       "      <th>review_url</th>\n",
       "      <th>input</th>\n",
       "    </tr>\n",
       "  </thead>\n",
       "  <tbody>\n",
       "    <tr>\n",
       "      <th>15905</th>\n",
       "      <td>B00K8K937I</td>\n",
       "      <td>Puritan's Pride Super Strength Rapid Release C...</td>\n",
       "      <td>4.6</td>\n",
       "      <td>3273</td>\n",
       "      <td>Dimples_1971</td>\n",
       "      <td>NaN</td>\n",
       "      <td>Verified Purchase</td>\n",
       "      <td>Size: 120 Count (Pack of 2)</td>\n",
       "      <td>B00K8K937I</td>\n",
       "      <td>https://www.amazon.com/Puritans-Pride-Strength...</td>\n",
       "      <td>...</td>\n",
       "      <td>United States</td>\n",
       "      <td>This product works. I took one before bed and ...</td>\n",
       "      <td>NaN</td>\n",
       "      <td>This product works</td>\n",
       "      <td>NaN</td>\n",
       "      <td>https://www.amazon.com/gp/profile/amzn1.accoun...</td>\n",
       "      <td>https://www.amazon.com/product-reviews/B00K8K9...</td>\n",
       "      <td>Puritan's Pride</td>\n",
       "      <td>https://www.amazon.com/gp/customer-reviews/R3Q...</td>\n",
       "      <td>B00K8K937I</td>\n",
       "    </tr>\n",
       "    <tr>\n",
       "      <th>15906</th>\n",
       "      <td>B00K8K937I</td>\n",
       "      <td>Puritan's Pride Super Strength Rapid Release C...</td>\n",
       "      <td>4.6</td>\n",
       "      <td>3273</td>\n",
       "      <td>Lori Kay Sympson</td>\n",
       "      <td>NaN</td>\n",
       "      <td>NaN</td>\n",
       "      <td>Size: 120 Count (Pack of 1)</td>\n",
       "      <td>B004R66PVG</td>\n",
       "      <td>https://www.amazon.com/Puritans-Pride-Strength...</td>\n",
       "      <td>...</td>\n",
       "      <td>United States</td>\n",
       "      <td>These aren't tablets, and it takes them 1-2 ho...</td>\n",
       "      <td>NaN</td>\n",
       "      <td>Poor quality</td>\n",
       "      <td>NaN</td>\n",
       "      <td>https://www.amazon.com/gp/profile/amzn1.accoun...</td>\n",
       "      <td>https://www.amazon.com/product-reviews/B00K8K9...</td>\n",
       "      <td>Puritan's Pride</td>\n",
       "      <td>https://www.amazon.com/gp/customer-reviews/R2V...</td>\n",
       "      <td>B00K8K937I</td>\n",
       "    </tr>\n",
       "    <tr>\n",
       "      <th>15907</th>\n",
       "      <td>B00K8K937I</td>\n",
       "      <td>Puritan's Pride Super Strength Rapid Release C...</td>\n",
       "      <td>4.6</td>\n",
       "      <td>3273</td>\n",
       "      <td>Georgann English</td>\n",
       "      <td>NaN</td>\n",
       "      <td>Verified Purchase</td>\n",
       "      <td>Size: 120 Count (Pack of 1)</td>\n",
       "      <td>B004R66PVG</td>\n",
       "      <td>https://www.amazon.com/Puritans-Pride-Strength...</td>\n",
       "      <td>...</td>\n",
       "      <td>United States</td>\n",
       "      <td>see above</td>\n",
       "      <td>NaN</td>\n",
       "      <td>Product did not help me sleep</td>\n",
       "      <td>NaN</td>\n",
       "      <td>https://www.amazon.com/gp/profile/amzn1.accoun...</td>\n",
       "      <td>https://www.amazon.com/product-reviews/B00K8K9...</td>\n",
       "      <td>Puritan's Pride</td>\n",
       "      <td>https://www.amazon.com/gp/customer-reviews/R1C...</td>\n",
       "      <td>B00K8K937I</td>\n",
       "    </tr>\n",
       "    <tr>\n",
       "      <th>15908</th>\n",
       "      <td>B00K8K937I</td>\n",
       "      <td>Puritan's Pride Super Strength Rapid Release C...</td>\n",
       "      <td>4.6</td>\n",
       "      <td>3273</td>\n",
       "      <td>Bob H.</td>\n",
       "      <td>NaN</td>\n",
       "      <td>Verified Purchase</td>\n",
       "      <td>Size: 120 Count (Pack of 2)</td>\n",
       "      <td>B00K8K937I</td>\n",
       "      <td>https://www.amazon.com/Puritans-Pride-Strength...</td>\n",
       "      <td>...</td>\n",
       "      <td>United States</td>\n",
       "      <td>I have had trouble falling asleep for the past...</td>\n",
       "      <td>NaN</td>\n",
       "      <td>Great purchase! Will buy again!!</td>\n",
       "      <td>1.0</td>\n",
       "      <td>https://www.amazon.com/gp/profile/amzn1.accoun...</td>\n",
       "      <td>https://www.amazon.com/product-reviews/B00K8K9...</td>\n",
       "      <td>Puritan's Pride</td>\n",
       "      <td>https://www.amazon.com/gp/customer-reviews/R10...</td>\n",
       "      <td>B00K8K937I</td>\n",
       "    </tr>\n",
       "    <tr>\n",
       "      <th>15909</th>\n",
       "      <td>B00K8K937I</td>\n",
       "      <td>Puritan's Pride Super Strength Rapid Release C...</td>\n",
       "      <td>4.6</td>\n",
       "      <td>3273</td>\n",
       "      <td>mitchell</td>\n",
       "      <td>NaN</td>\n",
       "      <td>Verified Purchase</td>\n",
       "      <td>Size: 120 Count (Pack of 1)</td>\n",
       "      <td>B004R66PVG</td>\n",
       "      <td>https://www.amazon.com/Puritans-Pride-Strength...</td>\n",
       "      <td>...</td>\n",
       "      <td>United States</td>\n",
       "      <td>I am a very light sleeper and this helped. I d...</td>\n",
       "      <td>NaN</td>\n",
       "      <td>It helps relax</td>\n",
       "      <td>2.0</td>\n",
       "      <td>https://www.amazon.com/gp/profile/amzn1.accoun...</td>\n",
       "      <td>https://www.amazon.com/product-reviews/B00K8K9...</td>\n",
       "      <td>Puritan's Pride</td>\n",
       "      <td>https://www.amazon.com/gp/customer-reviews/RHO...</td>\n",
       "      <td>B00K8K937I</td>\n",
       "    </tr>\n",
       "  </tbody>\n",
       "</table>\n",
       "<p>5 rows × 22 columns</p>\n",
       "</div>"
      ],
      "text/plain": [
       "             asin                                      product_title  \\\n",
       "15905  B00K8K937I  Puritan's Pride Super Strength Rapid Release C...   \n",
       "15906  B00K8K937I  Puritan's Pride Super Strength Rapid Release C...   \n",
       "15907  B00K8K937I  Puritan's Pride Super Strength Rapid Release C...   \n",
       "15908  B00K8K937I  Puritan's Pride Super Strength Rapid Release C...   \n",
       "15909  B00K8K937I  Puritan's Pride Super Strength Rapid Release C...   \n",
       "\n",
       "       average_rating  total_reviews     review_author author_badge  \\\n",
       "15905             4.6           3273      Dimples_1971          NaN   \n",
       "15906             4.6           3273  Lori Kay Sympson          NaN   \n",
       "15907             4.6           3273  Georgann English          NaN   \n",
       "15908             4.6           3273            Bob H.          NaN   \n",
       "15909             4.6           3273          mitchell          NaN   \n",
       "\n",
       "                   badge   reviewed_product_attribute reviewed_variant_asin  \\\n",
       "15905  Verified Purchase  Size: 120 Count (Pack of 2)            B00K8K937I   \n",
       "15906                NaN  Size: 120 Count (Pack of 1)            B004R66PVG   \n",
       "15907  Verified Purchase  Size: 120 Count (Pack of 1)            B004R66PVG   \n",
       "15908  Verified Purchase  Size: 120 Count (Pack of 2)            B00K8K937I   \n",
       "15909  Verified Purchase  Size: 120 Count (Pack of 1)            B004R66PVG   \n",
       "\n",
       "                                      variant_review_url  ...  \\\n",
       "15905  https://www.amazon.com/Puritans-Pride-Strength...  ...   \n",
       "15906  https://www.amazon.com/Puritans-Pride-Strength...  ...   \n",
       "15907  https://www.amazon.com/Puritans-Pride-Strength...  ...   \n",
       "15908  https://www.amazon.com/Puritans-Pride-Strength...  ...   \n",
       "15909  https://www.amazon.com/Puritans-Pride-Strength...  ...   \n",
       "\n",
       "       reviewed_country                                        review_text  \\\n",
       "15905    United States   This product works. I took one before bed and ...   \n",
       "15906     United States  These aren't tablets, and it takes them 1-2 ho...   \n",
       "15907    United States                                           see above   \n",
       "15908     United States  I have had trouble falling asleep for the past...   \n",
       "15909     United States  I am a very light sleeper and this helped. I d...   \n",
       "\n",
       "      review_comment_count                     review_header  \\\n",
       "15905                  NaN                This product works   \n",
       "15906                  NaN                      Poor quality   \n",
       "15907                  NaN     Product did not help me sleep   \n",
       "15908                  NaN  Great purchase! Will buy again!!   \n",
       "15909                  NaN                    It helps relax   \n",
       "\n",
       "       no_of_people_reacted_helpful  \\\n",
       "15905                           NaN   \n",
       "15906                           NaN   \n",
       "15907                           NaN   \n",
       "15908                           1.0   \n",
       "15909                           2.0   \n",
       "\n",
       "                                      author_profile_url  \\\n",
       "15905  https://www.amazon.com/gp/profile/amzn1.accoun...   \n",
       "15906  https://www.amazon.com/gp/profile/amzn1.accoun...   \n",
       "15907  https://www.amazon.com/gp/profile/amzn1.accoun...   \n",
       "15908  https://www.amazon.com/gp/profile/amzn1.accoun...   \n",
       "15909  https://www.amazon.com/gp/profile/amzn1.accoun...   \n",
       "\n",
       "                                                     url            brand  \\\n",
       "15905  https://www.amazon.com/product-reviews/B00K8K9...  Puritan's Pride   \n",
       "15906  https://www.amazon.com/product-reviews/B00K8K9...  Puritan's Pride   \n",
       "15907  https://www.amazon.com/product-reviews/B00K8K9...  Puritan's Pride   \n",
       "15908  https://www.amazon.com/product-reviews/B00K8K9...  Puritan's Pride   \n",
       "15909  https://www.amazon.com/product-reviews/B00K8K9...  Puritan's Pride   \n",
       "\n",
       "                                              review_url       input  \n",
       "15905  https://www.amazon.com/gp/customer-reviews/R3Q...  B00K8K937I  \n",
       "15906  https://www.amazon.com/gp/customer-reviews/R2V...  B00K8K937I  \n",
       "15907  https://www.amazon.com/gp/customer-reviews/R1C...  B00K8K937I  \n",
       "15908  https://www.amazon.com/gp/customer-reviews/R10...  B00K8K937I  \n",
       "15909  https://www.amazon.com/gp/customer-reviews/RHO...  B00K8K937I  \n",
       "\n",
       "[5 rows x 22 columns]"
      ]
     },
     "execution_count": 8,
     "metadata": {},
     "output_type": "execute_result"
    }
   ],
   "source": [
    "merged_df.tail()"
   ]
  },
  {
   "cell_type": "code",
   "execution_count": null,
   "id": "806265b8-620c-4b99-8bd2-cc8dc05c420a",
   "metadata": {},
   "outputs": [],
   "source": []
  },
  {
   "cell_type": "code",
   "execution_count": null,
   "id": "9855dccd-e0d1-47b4-83c1-3520c3eec7dc",
   "metadata": {},
   "outputs": [],
   "source": []
  },
  {
   "cell_type": "code",
   "execution_count": null,
   "id": "5cd36e38-3202-4ad9-8e5f-c02324c393ec",
   "metadata": {},
   "outputs": [],
   "source": []
  },
  {
   "cell_type": "code",
   "execution_count": null,
   "id": "64d85626-0bfe-402c-8245-0967f99eca5c",
   "metadata": {},
   "outputs": [],
   "source": []
  },
  {
   "cell_type": "code",
   "execution_count": null,
   "id": "986e2e52-343d-44eb-8297-2eb82bdd93ca",
   "metadata": {},
   "outputs": [],
   "source": []
  },
  {
   "cell_type": "code",
   "execution_count": null,
   "id": "fec0b043-4467-4812-86e0-78fde95f0548",
   "metadata": {},
   "outputs": [],
   "source": []
  },
  {
   "cell_type": "code",
   "execution_count": 9,
   "id": "5df7bdcb-156d-4371-bd7b-832c5307ac83",
   "metadata": {
    "tags": []
   },
   "outputs": [],
   "source": [
    "pattern = r'(\\d+(\\.\\d+)?)\\s*mg'\n",
    "merged_df['dose'] = merged_df['product_title'].str.extract(pattern, expand=False)[0].astype(float)"
   ]
  },
  {
   "cell_type": "code",
   "execution_count": 10,
   "id": "76f798b3-4929-43e4-8b28-1936b25b92fc",
   "metadata": {
    "tags": []
   },
   "outputs": [
    {
     "data": {
      "text/html": [
       "<div>\n",
       "<style scoped>\n",
       "    .dataframe tbody tr th:only-of-type {\n",
       "        vertical-align: middle;\n",
       "    }\n",
       "\n",
       "    .dataframe tbody tr th {\n",
       "        vertical-align: top;\n",
       "    }\n",
       "\n",
       "    .dataframe thead th {\n",
       "        text-align: right;\n",
       "    }\n",
       "</style>\n",
       "<table border=\"1\" class=\"dataframe\">\n",
       "  <thead>\n",
       "    <tr style=\"text-align: right;\">\n",
       "      <th></th>\n",
       "      <th>asin</th>\n",
       "      <th>product_title</th>\n",
       "      <th>average_rating</th>\n",
       "      <th>total_reviews</th>\n",
       "      <th>review_author</th>\n",
       "      <th>author_badge</th>\n",
       "      <th>badge</th>\n",
       "      <th>reviewed_product_attribute</th>\n",
       "      <th>reviewed_variant_asin</th>\n",
       "      <th>variant_review_url</th>\n",
       "      <th>...</th>\n",
       "      <th>review_text</th>\n",
       "      <th>review_comment_count</th>\n",
       "      <th>review_header</th>\n",
       "      <th>no_of_people_reacted_helpful</th>\n",
       "      <th>author_profile_url</th>\n",
       "      <th>url</th>\n",
       "      <th>brand</th>\n",
       "      <th>review_url</th>\n",
       "      <th>input</th>\n",
       "      <th>dose</th>\n",
       "    </tr>\n",
       "  </thead>\n",
       "  <tbody>\n",
       "    <tr>\n",
       "      <th>0</th>\n",
       "      <td>B08CGYFB2Q</td>\n",
       "      <td>Vitamatic Melatonin 20mg Tablets | Vegetarian,...</td>\n",
       "      <td>4.5</td>\n",
       "      <td>1033</td>\n",
       "      <td>Elaine L. Parsons</td>\n",
       "      <td>NaN</td>\n",
       "      <td>Verified Purchase</td>\n",
       "      <td>Size: 120 Count (Pack of 2)</td>\n",
       "      <td>B08CSYJ3FZ</td>\n",
       "      <td>https://www.amazon.com/Vitamatic-Melatonin-Tab...</td>\n",
       "      <td>...</td>\n",
       "      <td>20mg in one pill/dose. Easy to swallow. Grape ...</td>\n",
       "      <td>NaN</td>\n",
       "      <td>Right dose</td>\n",
       "      <td>NaN</td>\n",
       "      <td>https://www.amazon.com/gp/profile/amzn1.accoun...</td>\n",
       "      <td>https://www.amazon.com/product-reviews/B08CGYF...</td>\n",
       "      <td>Vitamatic</td>\n",
       "      <td>https://www.amazon.com/gp/customer-reviews/R1R...</td>\n",
       "      <td>B08CGYFB2Q</td>\n",
       "      <td>20.0</td>\n",
       "    </tr>\n",
       "    <tr>\n",
       "      <th>1</th>\n",
       "      <td>B08CGYFB2Q</td>\n",
       "      <td>Vitamatic Melatonin 20mg Tablets | Vegetarian,...</td>\n",
       "      <td>4.5</td>\n",
       "      <td>1033</td>\n",
       "      <td>Garou</td>\n",
       "      <td>NaN</td>\n",
       "      <td>Verified Purchase</td>\n",
       "      <td>Size: 120 Count (Pack of 1)</td>\n",
       "      <td>B08CGYFB2Q</td>\n",
       "      <td>https://www.amazon.com/Vitamatic-Melatonin-Tab...</td>\n",
       "      <td>...</td>\n",
       "      <td>Sleep aid</td>\n",
       "      <td>NaN</td>\n",
       "      <td>It works as advertized.</td>\n",
       "      <td>NaN</td>\n",
       "      <td>https://www.amazon.com/gp/profile/amzn1.accoun...</td>\n",
       "      <td>https://www.amazon.com/product-reviews/B08CGYF...</td>\n",
       "      <td>Vitamatic</td>\n",
       "      <td>https://www.amazon.com/gp/customer-reviews/RSG...</td>\n",
       "      <td>B08CGYFB2Q</td>\n",
       "      <td>20.0</td>\n",
       "    </tr>\n",
       "    <tr>\n",
       "      <th>2</th>\n",
       "      <td>B08CGYFB2Q</td>\n",
       "      <td>Vitamatic Melatonin 20mg Tablets | Vegetarian,...</td>\n",
       "      <td>4.5</td>\n",
       "      <td>1033</td>\n",
       "      <td>Lila Cossey</td>\n",
       "      <td>NaN</td>\n",
       "      <td>Verified Purchase</td>\n",
       "      <td>Size: 120 Count (Pack of 1)</td>\n",
       "      <td>B08CGYFB2Q</td>\n",
       "      <td>https://www.amazon.com/Vitamatic-Melatonin-Tab...</td>\n",
       "      <td>...</td>\n",
       "      <td>Me and my husband have been taking this for aw...</td>\n",
       "      <td>NaN</td>\n",
       "      <td>Good Sleep!!</td>\n",
       "      <td>NaN</td>\n",
       "      <td>https://www.amazon.com/gp/profile/amzn1.accoun...</td>\n",
       "      <td>https://www.amazon.com/product-reviews/B08CGYF...</td>\n",
       "      <td>Vitamatic</td>\n",
       "      <td>https://www.amazon.com/gp/customer-reviews/RF1...</td>\n",
       "      <td>B08CGYFB2Q</td>\n",
       "      <td>20.0</td>\n",
       "    </tr>\n",
       "    <tr>\n",
       "      <th>3</th>\n",
       "      <td>B08CGYFB2Q</td>\n",
       "      <td>Vitamatic Melatonin 20mg Tablets | Vegetarian,...</td>\n",
       "      <td>4.5</td>\n",
       "      <td>1033</td>\n",
       "      <td>duff</td>\n",
       "      <td>NaN</td>\n",
       "      <td>Verified Purchase</td>\n",
       "      <td>NaN</td>\n",
       "      <td>NaN</td>\n",
       "      <td>NaN</td>\n",
       "      <td>...</td>\n",
       "      <td>product works as advertised</td>\n",
       "      <td>NaN</td>\n",
       "      <td>works</td>\n",
       "      <td>NaN</td>\n",
       "      <td>https://www.amazon.com/gp/profile/amzn1.accoun...</td>\n",
       "      <td>https://www.amazon.com/product-reviews/B08CGYF...</td>\n",
       "      <td>Vitamatic</td>\n",
       "      <td>https://www.amazon.com/gp/customer-reviews/R1L...</td>\n",
       "      <td>B08CGYFB2Q</td>\n",
       "      <td>20.0</td>\n",
       "    </tr>\n",
       "    <tr>\n",
       "      <th>4</th>\n",
       "      <td>B08CGYFB2Q</td>\n",
       "      <td>Vitamatic Melatonin 20mg Tablets | Vegetarian,...</td>\n",
       "      <td>4.5</td>\n",
       "      <td>1033</td>\n",
       "      <td>jon</td>\n",
       "      <td>NaN</td>\n",
       "      <td>Verified Purchase</td>\n",
       "      <td>Size: 120 Count (Pack of 1)</td>\n",
       "      <td>B08CGYFB2Q</td>\n",
       "      <td>https://www.amazon.com/Vitamatic-Melatonin-Tab...</td>\n",
       "      <td>...</td>\n",
       "      <td>Works great with no after taste</td>\n",
       "      <td>NaN</td>\n",
       "      <td>Works great no after taste</td>\n",
       "      <td>NaN</td>\n",
       "      <td>https://www.amazon.com/gp/profile/amzn1.accoun...</td>\n",
       "      <td>https://www.amazon.com/product-reviews/B08CGYF...</td>\n",
       "      <td>Vitamatic</td>\n",
       "      <td>https://www.amazon.com/gp/customer-reviews/R3A...</td>\n",
       "      <td>B08CGYFB2Q</td>\n",
       "      <td>20.0</td>\n",
       "    </tr>\n",
       "  </tbody>\n",
       "</table>\n",
       "<p>5 rows × 23 columns</p>\n",
       "</div>"
      ],
      "text/plain": [
       "         asin                                      product_title  \\\n",
       "0  B08CGYFB2Q  Vitamatic Melatonin 20mg Tablets | Vegetarian,...   \n",
       "1  B08CGYFB2Q  Vitamatic Melatonin 20mg Tablets | Vegetarian,...   \n",
       "2  B08CGYFB2Q  Vitamatic Melatonin 20mg Tablets | Vegetarian,...   \n",
       "3  B08CGYFB2Q  Vitamatic Melatonin 20mg Tablets | Vegetarian,...   \n",
       "4  B08CGYFB2Q  Vitamatic Melatonin 20mg Tablets | Vegetarian,...   \n",
       "\n",
       "   average_rating  total_reviews      review_author author_badge  \\\n",
       "0             4.5           1033  Elaine L. Parsons          NaN   \n",
       "1             4.5           1033              Garou          NaN   \n",
       "2             4.5           1033        Lila Cossey          NaN   \n",
       "3             4.5           1033               duff          NaN   \n",
       "4             4.5           1033                jon          NaN   \n",
       "\n",
       "               badge   reviewed_product_attribute reviewed_variant_asin  \\\n",
       "0  Verified Purchase  Size: 120 Count (Pack of 2)            B08CSYJ3FZ   \n",
       "1  Verified Purchase  Size: 120 Count (Pack of 1)            B08CGYFB2Q   \n",
       "2  Verified Purchase  Size: 120 Count (Pack of 1)            B08CGYFB2Q   \n",
       "3  Verified Purchase                          NaN                   NaN   \n",
       "4  Verified Purchase  Size: 120 Count (Pack of 1)            B08CGYFB2Q   \n",
       "\n",
       "                                  variant_review_url  ...  \\\n",
       "0  https://www.amazon.com/Vitamatic-Melatonin-Tab...  ...   \n",
       "1  https://www.amazon.com/Vitamatic-Melatonin-Tab...  ...   \n",
       "2  https://www.amazon.com/Vitamatic-Melatonin-Tab...  ...   \n",
       "3                                                NaN  ...   \n",
       "4  https://www.amazon.com/Vitamatic-Melatonin-Tab...  ...   \n",
       "\n",
       "                                         review_text review_comment_count  \\\n",
       "0  20mg in one pill/dose. Easy to swallow. Grape ...                  NaN   \n",
       "1                                          Sleep aid                  NaN   \n",
       "2  Me and my husband have been taking this for aw...                  NaN   \n",
       "3                        product works as advertised                  NaN   \n",
       "4                    Works great with no after taste                  NaN   \n",
       "\n",
       "                review_header no_of_people_reacted_helpful  \\\n",
       "0                  Right dose                          NaN   \n",
       "1     It works as advertized.                          NaN   \n",
       "2                Good Sleep!!                          NaN   \n",
       "3                       works                          NaN   \n",
       "4  Works great no after taste                          NaN   \n",
       "\n",
       "                                  author_profile_url  \\\n",
       "0  https://www.amazon.com/gp/profile/amzn1.accoun...   \n",
       "1  https://www.amazon.com/gp/profile/amzn1.accoun...   \n",
       "2  https://www.amazon.com/gp/profile/amzn1.accoun...   \n",
       "3  https://www.amazon.com/gp/profile/amzn1.accoun...   \n",
       "4  https://www.amazon.com/gp/profile/amzn1.accoun...   \n",
       "\n",
       "                                                 url      brand  \\\n",
       "0  https://www.amazon.com/product-reviews/B08CGYF...  Vitamatic   \n",
       "1  https://www.amazon.com/product-reviews/B08CGYF...  Vitamatic   \n",
       "2  https://www.amazon.com/product-reviews/B08CGYF...  Vitamatic   \n",
       "3  https://www.amazon.com/product-reviews/B08CGYF...  Vitamatic   \n",
       "4  https://www.amazon.com/product-reviews/B08CGYF...  Vitamatic   \n",
       "\n",
       "                                          review_url       input  dose  \n",
       "0  https://www.amazon.com/gp/customer-reviews/R1R...  B08CGYFB2Q  20.0  \n",
       "1  https://www.amazon.com/gp/customer-reviews/RSG...  B08CGYFB2Q  20.0  \n",
       "2  https://www.amazon.com/gp/customer-reviews/RF1...  B08CGYFB2Q  20.0  \n",
       "3  https://www.amazon.com/gp/customer-reviews/R1L...  B08CGYFB2Q  20.0  \n",
       "4  https://www.amazon.com/gp/customer-reviews/R3A...  B08CGYFB2Q  20.0  \n",
       "\n",
       "[5 rows x 23 columns]"
      ]
     },
     "execution_count": 10,
     "metadata": {},
     "output_type": "execute_result"
    }
   ],
   "source": [
    "merged_df['dose']=merged_df['dose'].fillna(10)\n",
    "merged_df.head()"
   ]
  },
  {
   "cell_type": "code",
   "execution_count": null,
   "id": "7bf1d120-829b-498b-84af-6576dc90017f",
   "metadata": {},
   "outputs": [],
   "source": []
  },
  {
   "cell_type": "code",
   "execution_count": null,
   "id": "ed99b476-1870-4386-978c-25ca7a05854d",
   "metadata": {},
   "outputs": [],
   "source": []
  },
  {
   "cell_type": "code",
   "execution_count": 11,
   "id": "3146e0f0-c42a-4487-a56d-e002373a845d",
   "metadata": {
    "tags": []
   },
   "outputs": [],
   "source": [
    "findf =merged_df.drop([ 'asin','product_title' ,'author_badge', 'badge', 'reviewed_variant_asin', 'variant_review_url', 'reviewed_country', 'review_comment_count', 'author_profile_url', 'url', 'review_url', 'input'], axis=1) "
   ]
  },
  {
   "cell_type": "code",
   "execution_count": 12,
   "id": "66ccb19f-58d8-4c07-999c-0e7ccc49667a",
   "metadata": {
    "tags": []
   },
   "outputs": [
    {
     "data": {
      "text/html": [
       "<div>\n",
       "<style scoped>\n",
       "    .dataframe tbody tr th:only-of-type {\n",
       "        vertical-align: middle;\n",
       "    }\n",
       "\n",
       "    .dataframe tbody tr th {\n",
       "        vertical-align: top;\n",
       "    }\n",
       "\n",
       "    .dataframe thead th {\n",
       "        text-align: right;\n",
       "    }\n",
       "</style>\n",
       "<table border=\"1\" class=\"dataframe\">\n",
       "  <thead>\n",
       "    <tr style=\"text-align: right;\">\n",
       "      <th></th>\n",
       "      <th>average_rating</th>\n",
       "      <th>total_reviews</th>\n",
       "      <th>review_author</th>\n",
       "      <th>reviewed_product_attribute</th>\n",
       "      <th>review_rating</th>\n",
       "      <th>review_date</th>\n",
       "      <th>review_text</th>\n",
       "      <th>review_header</th>\n",
       "      <th>no_of_people_reacted_helpful</th>\n",
       "      <th>brand</th>\n",
       "      <th>dose</th>\n",
       "    </tr>\n",
       "  </thead>\n",
       "  <tbody>\n",
       "    <tr>\n",
       "      <th>0</th>\n",
       "      <td>4.5</td>\n",
       "      <td>1033</td>\n",
       "      <td>Elaine L. Parsons</td>\n",
       "      <td>Size: 120 Count (Pack of 2)</td>\n",
       "      <td>5</td>\n",
       "      <td>15-Aug-22</td>\n",
       "      <td>20mg in one pill/dose. Easy to swallow. Grape ...</td>\n",
       "      <td>Right dose</td>\n",
       "      <td>NaN</td>\n",
       "      <td>Vitamatic</td>\n",
       "      <td>20.0</td>\n",
       "    </tr>\n",
       "    <tr>\n",
       "      <th>1</th>\n",
       "      <td>4.5</td>\n",
       "      <td>1033</td>\n",
       "      <td>Garou</td>\n",
       "      <td>Size: 120 Count (Pack of 1)</td>\n",
       "      <td>5</td>\n",
       "      <td>11-Aug-21</td>\n",
       "      <td>Sleep aid</td>\n",
       "      <td>It works as advertized.</td>\n",
       "      <td>NaN</td>\n",
       "      <td>Vitamatic</td>\n",
       "      <td>20.0</td>\n",
       "    </tr>\n",
       "    <tr>\n",
       "      <th>2</th>\n",
       "      <td>4.5</td>\n",
       "      <td>1033</td>\n",
       "      <td>Lila Cossey</td>\n",
       "      <td>Size: 120 Count (Pack of 1)</td>\n",
       "      <td>5</td>\n",
       "      <td>25-Feb-22</td>\n",
       "      <td>Me and my husband have been taking this for aw...</td>\n",
       "      <td>Good Sleep!!</td>\n",
       "      <td>NaN</td>\n",
       "      <td>Vitamatic</td>\n",
       "      <td>20.0</td>\n",
       "    </tr>\n",
       "    <tr>\n",
       "      <th>3</th>\n",
       "      <td>4.5</td>\n",
       "      <td>1033</td>\n",
       "      <td>duff</td>\n",
       "      <td>NaN</td>\n",
       "      <td>5</td>\n",
       "      <td>10-Mar-22</td>\n",
       "      <td>product works as advertised</td>\n",
       "      <td>works</td>\n",
       "      <td>NaN</td>\n",
       "      <td>Vitamatic</td>\n",
       "      <td>20.0</td>\n",
       "    </tr>\n",
       "    <tr>\n",
       "      <th>4</th>\n",
       "      <td>4.5</td>\n",
       "      <td>1033</td>\n",
       "      <td>jon</td>\n",
       "      <td>Size: 120 Count (Pack of 1)</td>\n",
       "      <td>5</td>\n",
       "      <td>3-May-22</td>\n",
       "      <td>Works great with no after taste</td>\n",
       "      <td>Works great no after taste</td>\n",
       "      <td>NaN</td>\n",
       "      <td>Vitamatic</td>\n",
       "      <td>20.0</td>\n",
       "    </tr>\n",
       "  </tbody>\n",
       "</table>\n",
       "</div>"
      ],
      "text/plain": [
       "   average_rating  total_reviews      review_author  \\\n",
       "0             4.5           1033  Elaine L. Parsons   \n",
       "1             4.5           1033              Garou   \n",
       "2             4.5           1033        Lila Cossey   \n",
       "3             4.5           1033               duff   \n",
       "4             4.5           1033                jon   \n",
       "\n",
       "    reviewed_product_attribute  review_rating review_date  \\\n",
       "0  Size: 120 Count (Pack of 2)              5   15-Aug-22   \n",
       "1  Size: 120 Count (Pack of 1)              5   11-Aug-21   \n",
       "2  Size: 120 Count (Pack of 1)              5   25-Feb-22   \n",
       "3                          NaN              5   10-Mar-22   \n",
       "4  Size: 120 Count (Pack of 1)              5    3-May-22   \n",
       "\n",
       "                                         review_text  \\\n",
       "0  20mg in one pill/dose. Easy to swallow. Grape ...   \n",
       "1                                          Sleep aid   \n",
       "2  Me and my husband have been taking this for aw...   \n",
       "3                        product works as advertised   \n",
       "4                    Works great with no after taste   \n",
       "\n",
       "                review_header no_of_people_reacted_helpful      brand  dose  \n",
       "0                  Right dose                          NaN  Vitamatic  20.0  \n",
       "1     It works as advertized.                          NaN  Vitamatic  20.0  \n",
       "2                Good Sleep!!                          NaN  Vitamatic  20.0  \n",
       "3                       works                          NaN  Vitamatic  20.0  \n",
       "4  Works great no after taste                          NaN  Vitamatic  20.0  "
      ]
     },
     "execution_count": 12,
     "metadata": {},
     "output_type": "execute_result"
    }
   ],
   "source": [
    "findf.head()"
   ]
  },
  {
   "cell_type": "code",
   "execution_count": 13,
   "id": "297e91c5-eb80-4655-bd75-87a3c7688104",
   "metadata": {
    "tags": []
   },
   "outputs": [
    {
     "data": {
      "text/plain": [
       "0        NaN\n",
       "1        NaN\n",
       "2        NaN\n",
       "3        NaN\n",
       "4        NaN\n",
       "        ... \n",
       "15905    NaN\n",
       "15906    NaN\n",
       "15907    NaN\n",
       "15908    1.0\n",
       "15909    2.0\n",
       "Name: no_of_people_reacted_helpful, Length: 15910, dtype: float64"
      ]
     },
     "execution_count": 13,
     "metadata": {},
     "output_type": "execute_result"
    }
   ],
   "source": [
    "findf['no_of_people_reacted_helpful'] = pd.to_numeric(findf['no_of_people_reacted_helpful'], errors='coerce')\n",
    "findf['no_of_people_reacted_helpful']"
   ]
  },
  {
   "cell_type": "code",
   "execution_count": null,
   "id": "6b1bd407-bc20-4057-b08d-ce2bfbc1eaa6",
   "metadata": {},
   "outputs": [],
   "source": []
  },
  {
   "cell_type": "code",
   "execution_count": null,
   "id": "789a9c16-2429-4d43-bf26-3b0c2913b2c6",
   "metadata": {},
   "outputs": [],
   "source": []
  },
  {
   "cell_type": "code",
   "execution_count": null,
   "id": "c38d0251-d545-4323-a9a8-e3d49e74464e",
   "metadata": {
    "tags": []
   },
   "outputs": [],
   "source": []
  },
  {
   "cell_type": "code",
   "execution_count": null,
   "id": "c215a907-44f2-47c7-9248-b7e2d79953b7",
   "metadata": {
    "tags": []
   },
   "outputs": [],
   "source": []
  },
  {
   "cell_type": "code",
   "execution_count": null,
   "id": "db5e71a2-55e7-4abb-bca5-6218ede70b73",
   "metadata": {},
   "outputs": [],
   "source": []
  },
  {
   "cell_type": "code",
   "execution_count": null,
   "id": "f80017c5-e61d-4645-a956-0b6a80027614",
   "metadata": {
    "tags": []
   },
   "outputs": [],
   "source": []
  },
  {
   "cell_type": "code",
   "execution_count": null,
   "id": "11ca1a89-864d-4d4d-88e9-50b742064ba9",
   "metadata": {},
   "outputs": [],
   "source": []
  },
  {
   "cell_type": "code",
   "execution_count": null,
   "id": "4232236b-1707-4c78-b175-8ddb7028e2f9",
   "metadata": {
    "tags": []
   },
   "outputs": [],
   "source": []
  },
  {
   "cell_type": "code",
   "execution_count": null,
   "id": "ddf37b3d-ca9f-49ca-82b1-bd42a283da21",
   "metadata": {},
   "outputs": [],
   "source": []
  },
  {
   "cell_type": "code",
   "execution_count": null,
   "id": "33191d9d-614c-47a7-9ec5-d046cd41bcae",
   "metadata": {},
   "outputs": [],
   "source": []
  },
  {
   "cell_type": "code",
   "execution_count": null,
   "id": "d678819f-8aeb-4b50-a765-1a76b2cd0bff",
   "metadata": {},
   "outputs": [],
   "source": []
  },
  {
   "cell_type": "code",
   "execution_count": null,
   "id": "45727abe-3c7e-4ca0-9cd2-63957d1eece0",
   "metadata": {},
   "outputs": [],
   "source": []
  },
  {
   "cell_type": "code",
   "execution_count": 14,
   "id": "47b3c6b7-8dc8-44e3-b5e5-84fbc8b485bb",
   "metadata": {
    "tags": []
   },
   "outputs": [
    {
     "data": {
      "text/plain": [
       "0        20.0\n",
       "1        20.0\n",
       "2        20.0\n",
       "3        20.0\n",
       "4        20.0\n",
       "         ... \n",
       "15905    10.0\n",
       "15906    10.0\n",
       "15907    10.0\n",
       "15908    10.0\n",
       "15909    10.0\n",
       "Name: dose, Length: 15910, dtype: float64"
      ]
     },
     "execution_count": 14,
     "metadata": {},
     "output_type": "execute_result"
    }
   ],
   "source": [
    "findf['dose']"
   ]
  },
  {
   "cell_type": "code",
   "execution_count": 15,
   "id": "cffebe3c-5103-4bcc-99d8-3e379749f123",
   "metadata": {
    "tags": []
   },
   "outputs": [
    {
     "name": "stdout",
     "output_type": "stream",
     "text": [
      "<class 'pandas.core.frame.DataFrame'>\n",
      "RangeIndex: 15910 entries, 0 to 15909\n",
      "Data columns (total 11 columns):\n",
      " #   Column                        Non-Null Count  Dtype  \n",
      "---  ------                        --------------  -----  \n",
      " 0   average_rating                15910 non-null  float64\n",
      " 1   total_reviews                 15910 non-null  int64  \n",
      " 2   review_author                 15910 non-null  object \n",
      " 3   reviewed_product_attribute    13815 non-null  object \n",
      " 4   review_rating                 15910 non-null  int64  \n",
      " 5   review_date                   15910 non-null  object \n",
      " 6   review_text                   15882 non-null  object \n",
      " 7   review_header                 15905 non-null  object \n",
      " 8   no_of_people_reacted_helpful  2758 non-null   float64\n",
      " 9   brand                         15910 non-null  object \n",
      " 10  dose                          15910 non-null  float64\n",
      "dtypes: float64(3), int64(2), object(6)\n",
      "memory usage: 1.3+ MB\n"
     ]
    }
   ],
   "source": [
    "findf.info()"
   ]
  },
  {
   "cell_type": "code",
   "execution_count": null,
   "id": "d712e281-7b42-4741-8203-7060f9956a82",
   "metadata": {},
   "outputs": [],
   "source": []
  },
  {
   "cell_type": "code",
   "execution_count": null,
   "id": "9fbb13b6-3303-447e-8355-a2c8791daaaa",
   "metadata": {},
   "outputs": [],
   "source": []
  },
  {
   "cell_type": "code",
   "execution_count": null,
   "id": "f5f822d5-2fbe-4fc0-a6e5-a8424fd4d880",
   "metadata": {},
   "outputs": [],
   "source": []
  },
  {
   "cell_type": "code",
   "execution_count": 16,
   "id": "55256734-c182-425a-9a01-f5b4b64c4371",
   "metadata": {
    "tags": []
   },
   "outputs": [
    {
     "data": {
      "text/plain": [
       "brand\n",
       "Carlyle            5760\n",
       "Puritan's Pride    3200\n",
       "Natrol             2700\n",
       "Vitafusion         1950\n",
       "ZzzQuil            1300\n",
       "Vitamatic          1000\n",
       "Name: count, dtype: int64"
      ]
     },
     "execution_count": 16,
     "metadata": {},
     "output_type": "execute_result"
    }
   ],
   "source": [
    "findf['brand'].value_counts()"
   ]
  },
  {
   "cell_type": "code",
   "execution_count": null,
   "id": "498652eb-39c9-46ba-b1b2-25f7aade4d33",
   "metadata": {},
   "outputs": [],
   "source": []
  },
  {
   "cell_type": "code",
   "execution_count": null,
   "id": "4b387408-d1cc-43af-8de1-32d420930e0a",
   "metadata": {},
   "outputs": [],
   "source": []
  },
  {
   "cell_type": "code",
   "execution_count": null,
   "id": "40f07e99-ab66-4db5-9a03-5bd815b415b2",
   "metadata": {
    "tags": []
   },
   "outputs": [],
   "source": [
    "\n",
    "\n"
   ]
  },
  {
   "cell_type": "code",
   "execution_count": null,
   "id": "1eeaeedc-dfe4-4745-a20a-97710e3cd520",
   "metadata": {},
   "outputs": [],
   "source": []
  },
  {
   "cell_type": "code",
   "execution_count": null,
   "id": "529952c4-95ca-463a-b720-43f5ae62ab97",
   "metadata": {
    "tags": []
   },
   "outputs": [],
   "source": [
    "\n"
   ]
  },
  {
   "cell_type": "code",
   "execution_count": null,
   "id": "f978a78d-189b-4e2f-825e-6b4478106de5",
   "metadata": {},
   "outputs": [],
   "source": []
  },
  {
   "cell_type": "code",
   "execution_count": null,
   "id": "46c5a475-d33c-4e84-acf7-5dce16bcdaaa",
   "metadata": {},
   "outputs": [],
   "source": []
  },
  {
   "cell_type": "code",
   "execution_count": null,
   "id": "3a3c6490-e26b-490c-b959-5a09cf5119dd",
   "metadata": {},
   "outputs": [],
   "source": []
  },
  {
   "cell_type": "code",
   "execution_count": null,
   "id": "51690b93-632a-4c21-acf8-b37595e5046b",
   "metadata": {},
   "outputs": [],
   "source": []
  },
  {
   "cell_type": "code",
   "execution_count": null,
   "id": "c3b2968a-4b1a-4e80-9aae-059975da1782",
   "metadata": {},
   "outputs": [],
   "source": []
  },
  {
   "cell_type": "code",
   "execution_count": 17,
   "id": "294a9af9-185d-4031-8e1d-cd51e5a7e879",
   "metadata": {
    "tags": []
   },
   "outputs": [
    {
     "data": {
      "text/html": [
       "<div>\n",
       "<style scoped>\n",
       "    .dataframe tbody tr th:only-of-type {\n",
       "        vertical-align: middle;\n",
       "    }\n",
       "\n",
       "    .dataframe tbody tr th {\n",
       "        vertical-align: top;\n",
       "    }\n",
       "\n",
       "    .dataframe thead th {\n",
       "        text-align: right;\n",
       "    }\n",
       "</style>\n",
       "<table border=\"1\" class=\"dataframe\">\n",
       "  <thead>\n",
       "    <tr style=\"text-align: right;\">\n",
       "      <th></th>\n",
       "      <th>count</th>\n",
       "      <th>mean</th>\n",
       "      <th>std</th>\n",
       "      <th>min</th>\n",
       "      <th>25%</th>\n",
       "      <th>50%</th>\n",
       "      <th>75%</th>\n",
       "      <th>max</th>\n",
       "    </tr>\n",
       "  </thead>\n",
       "  <tbody>\n",
       "    <tr>\n",
       "      <th>average_rating</th>\n",
       "      <td>15910.0</td>\n",
       "      <td>4.575864</td>\n",
       "      <td>0.078619</td>\n",
       "      <td>4.5</td>\n",
       "      <td>4.5</td>\n",
       "      <td>4.6</td>\n",
       "      <td>4.6</td>\n",
       "      <td>4.7</td>\n",
       "    </tr>\n",
       "    <tr>\n",
       "      <th>total_reviews</th>\n",
       "      <td>15910.0</td>\n",
       "      <td>4037.575739</td>\n",
       "      <td>2070.915748</td>\n",
       "      <td>768.0</td>\n",
       "      <td>2749.0</td>\n",
       "      <td>3273.0</td>\n",
       "      <td>6594.0</td>\n",
       "      <td>6594.0</td>\n",
       "    </tr>\n",
       "    <tr>\n",
       "      <th>review_rating</th>\n",
       "      <td>15910.0</td>\n",
       "      <td>4.191012</td>\n",
       "      <td>1.363767</td>\n",
       "      <td>1.0</td>\n",
       "      <td>4.0</td>\n",
       "      <td>5.0</td>\n",
       "      <td>5.0</td>\n",
       "      <td>5.0</td>\n",
       "    </tr>\n",
       "    <tr>\n",
       "      <th>no_of_people_reacted_helpful</th>\n",
       "      <td>2758.0</td>\n",
       "      <td>6.519217</td>\n",
       "      <td>37.918591</td>\n",
       "      <td>1.0</td>\n",
       "      <td>1.0</td>\n",
       "      <td>1.0</td>\n",
       "      <td>2.0</td>\n",
       "      <td>970.0</td>\n",
       "    </tr>\n",
       "    <tr>\n",
       "      <th>dose</th>\n",
       "      <td>15910.0</td>\n",
       "      <td>10.617222</td>\n",
       "      <td>3.737900</td>\n",
       "      <td>1.0</td>\n",
       "      <td>10.0</td>\n",
       "      <td>10.0</td>\n",
       "      <td>12.0</td>\n",
       "      <td>20.0</td>\n",
       "    </tr>\n",
       "  </tbody>\n",
       "</table>\n",
       "</div>"
      ],
      "text/plain": [
       "                                count         mean          std    min  \\\n",
       "average_rating                15910.0     4.575864     0.078619    4.5   \n",
       "total_reviews                 15910.0  4037.575739  2070.915748  768.0   \n",
       "review_rating                 15910.0     4.191012     1.363767    1.0   \n",
       "no_of_people_reacted_helpful   2758.0     6.519217    37.918591    1.0   \n",
       "dose                          15910.0    10.617222     3.737900    1.0   \n",
       "\n",
       "                                 25%     50%     75%     max  \n",
       "average_rating                   4.5     4.6     4.6     4.7  \n",
       "total_reviews                 2749.0  3273.0  6594.0  6594.0  \n",
       "review_rating                    4.0     5.0     5.0     5.0  \n",
       "no_of_people_reacted_helpful     1.0     1.0     2.0   970.0  \n",
       "dose                            10.0    10.0    12.0    20.0  "
      ]
     },
     "execution_count": 17,
     "metadata": {},
     "output_type": "execute_result"
    }
   ],
   "source": [
    "findf.describe().T"
   ]
  },
  {
   "cell_type": "code",
   "execution_count": null,
   "id": "3791b588-580b-496e-8379-32fd868175c1",
   "metadata": {
    "tags": []
   },
   "outputs": [],
   "source": []
  },
  {
   "cell_type": "code",
   "execution_count": 18,
   "id": "3e65e010-f6cc-404c-a866-036e78f1e2db",
   "metadata": {
    "tags": []
   },
   "outputs": [
    {
     "data": {
      "text/html": [
       "<div>\n",
       "<style scoped>\n",
       "    .dataframe tbody tr th:only-of-type {\n",
       "        vertical-align: middle;\n",
       "    }\n",
       "\n",
       "    .dataframe tbody tr th {\n",
       "        vertical-align: top;\n",
       "    }\n",
       "\n",
       "    .dataframe thead th {\n",
       "        text-align: right;\n",
       "    }\n",
       "</style>\n",
       "<table border=\"1\" class=\"dataframe\">\n",
       "  <thead>\n",
       "    <tr style=\"text-align: right;\">\n",
       "      <th></th>\n",
       "      <th>count</th>\n",
       "      <th>unique</th>\n",
       "      <th>top</th>\n",
       "      <th>freq</th>\n",
       "      <th>mean</th>\n",
       "      <th>std</th>\n",
       "      <th>min</th>\n",
       "      <th>25%</th>\n",
       "      <th>50%</th>\n",
       "      <th>75%</th>\n",
       "      <th>max</th>\n",
       "    </tr>\n",
       "  </thead>\n",
       "  <tbody>\n",
       "    <tr>\n",
       "      <th>average_rating</th>\n",
       "      <td>15910.0</td>\n",
       "      <td>NaN</td>\n",
       "      <td>NaN</td>\n",
       "      <td>NaN</td>\n",
       "      <td>4.575864</td>\n",
       "      <td>0.078619</td>\n",
       "      <td>4.5</td>\n",
       "      <td>4.5</td>\n",
       "      <td>4.6</td>\n",
       "      <td>4.6</td>\n",
       "      <td>4.7</td>\n",
       "    </tr>\n",
       "    <tr>\n",
       "      <th>total_reviews</th>\n",
       "      <td>15910.0</td>\n",
       "      <td>NaN</td>\n",
       "      <td>NaN</td>\n",
       "      <td>NaN</td>\n",
       "      <td>4037.575739</td>\n",
       "      <td>2070.915748</td>\n",
       "      <td>768.0</td>\n",
       "      <td>2749.0</td>\n",
       "      <td>3273.0</td>\n",
       "      <td>6594.0</td>\n",
       "      <td>6594.0</td>\n",
       "    </tr>\n",
       "    <tr>\n",
       "      <th>review_author</th>\n",
       "      <td>15910</td>\n",
       "      <td>12983</td>\n",
       "      <td>Amazon Customer</td>\n",
       "      <td>867</td>\n",
       "      <td>NaN</td>\n",
       "      <td>NaN</td>\n",
       "      <td>NaN</td>\n",
       "      <td>NaN</td>\n",
       "      <td>NaN</td>\n",
       "      <td>NaN</td>\n",
       "      <td>NaN</td>\n",
       "    </tr>\n",
       "    <tr>\n",
       "      <th>reviewed_product_attribute</th>\n",
       "      <td>13815</td>\n",
       "      <td>12</td>\n",
       "      <td>Size: 180 Count (Pack of 1)</td>\n",
       "      <td>5000</td>\n",
       "      <td>NaN</td>\n",
       "      <td>NaN</td>\n",
       "      <td>NaN</td>\n",
       "      <td>NaN</td>\n",
       "      <td>NaN</td>\n",
       "      <td>NaN</td>\n",
       "      <td>NaN</td>\n",
       "    </tr>\n",
       "    <tr>\n",
       "      <th>review_rating</th>\n",
       "      <td>15910.0</td>\n",
       "      <td>NaN</td>\n",
       "      <td>NaN</td>\n",
       "      <td>NaN</td>\n",
       "      <td>4.191012</td>\n",
       "      <td>1.363767</td>\n",
       "      <td>1.0</td>\n",
       "      <td>4.0</td>\n",
       "      <td>5.0</td>\n",
       "      <td>5.0</td>\n",
       "      <td>5.0</td>\n",
       "    </tr>\n",
       "    <tr>\n",
       "      <th>review_date</th>\n",
       "      <td>15910</td>\n",
       "      <td>2430</td>\n",
       "      <td>3-Mar-21</td>\n",
       "      <td>28</td>\n",
       "      <td>NaN</td>\n",
       "      <td>NaN</td>\n",
       "      <td>NaN</td>\n",
       "      <td>NaN</td>\n",
       "      <td>NaN</td>\n",
       "      <td>NaN</td>\n",
       "      <td>NaN</td>\n",
       "    </tr>\n",
       "    <tr>\n",
       "      <th>review_text</th>\n",
       "      <td>15882</td>\n",
       "      <td>14981</td>\n",
       "      <td>Great product</td>\n",
       "      <td>47</td>\n",
       "      <td>NaN</td>\n",
       "      <td>NaN</td>\n",
       "      <td>NaN</td>\n",
       "      <td>NaN</td>\n",
       "      <td>NaN</td>\n",
       "      <td>NaN</td>\n",
       "      <td>NaN</td>\n",
       "    </tr>\n",
       "    <tr>\n",
       "      <th>review_header</th>\n",
       "      <td>15905</td>\n",
       "      <td>10620</td>\n",
       "      <td>Five Stars</td>\n",
       "      <td>344</td>\n",
       "      <td>NaN</td>\n",
       "      <td>NaN</td>\n",
       "      <td>NaN</td>\n",
       "      <td>NaN</td>\n",
       "      <td>NaN</td>\n",
       "      <td>NaN</td>\n",
       "      <td>NaN</td>\n",
       "    </tr>\n",
       "    <tr>\n",
       "      <th>no_of_people_reacted_helpful</th>\n",
       "      <td>2758.0</td>\n",
       "      <td>NaN</td>\n",
       "      <td>NaN</td>\n",
       "      <td>NaN</td>\n",
       "      <td>6.519217</td>\n",
       "      <td>37.918591</td>\n",
       "      <td>1.0</td>\n",
       "      <td>1.0</td>\n",
       "      <td>1.0</td>\n",
       "      <td>2.0</td>\n",
       "      <td>970.0</td>\n",
       "    </tr>\n",
       "    <tr>\n",
       "      <th>brand</th>\n",
       "      <td>15910</td>\n",
       "      <td>6</td>\n",
       "      <td>Carlyle</td>\n",
       "      <td>5760</td>\n",
       "      <td>NaN</td>\n",
       "      <td>NaN</td>\n",
       "      <td>NaN</td>\n",
       "      <td>NaN</td>\n",
       "      <td>NaN</td>\n",
       "      <td>NaN</td>\n",
       "      <td>NaN</td>\n",
       "    </tr>\n",
       "    <tr>\n",
       "      <th>dose</th>\n",
       "      <td>15910.0</td>\n",
       "      <td>NaN</td>\n",
       "      <td>NaN</td>\n",
       "      <td>NaN</td>\n",
       "      <td>10.617222</td>\n",
       "      <td>3.7379</td>\n",
       "      <td>1.0</td>\n",
       "      <td>10.0</td>\n",
       "      <td>10.0</td>\n",
       "      <td>12.0</td>\n",
       "      <td>20.0</td>\n",
       "    </tr>\n",
       "  </tbody>\n",
       "</table>\n",
       "</div>"
      ],
      "text/plain": [
       "                                count unique                          top  \\\n",
       "average_rating                15910.0    NaN                          NaN   \n",
       "total_reviews                 15910.0    NaN                          NaN   \n",
       "review_author                   15910  12983              Amazon Customer   \n",
       "reviewed_product_attribute      13815     12  Size: 180 Count (Pack of 1)   \n",
       "review_rating                 15910.0    NaN                          NaN   \n",
       "review_date                     15910   2430                     3-Mar-21   \n",
       "review_text                     15882  14981                Great product   \n",
       "review_header                   15905  10620                   Five Stars   \n",
       "no_of_people_reacted_helpful   2758.0    NaN                          NaN   \n",
       "brand                           15910      6                      Carlyle   \n",
       "dose                          15910.0    NaN                          NaN   \n",
       "\n",
       "                              freq         mean          std    min     25%  \\\n",
       "average_rating                 NaN     4.575864     0.078619    4.5     4.5   \n",
       "total_reviews                  NaN  4037.575739  2070.915748  768.0  2749.0   \n",
       "review_author                  867          NaN          NaN    NaN     NaN   \n",
       "reviewed_product_attribute    5000          NaN          NaN    NaN     NaN   \n",
       "review_rating                  NaN     4.191012     1.363767    1.0     4.0   \n",
       "review_date                     28          NaN          NaN    NaN     NaN   \n",
       "review_text                     47          NaN          NaN    NaN     NaN   \n",
       "review_header                  344          NaN          NaN    NaN     NaN   \n",
       "no_of_people_reacted_helpful   NaN     6.519217    37.918591    1.0     1.0   \n",
       "brand                         5760          NaN          NaN    NaN     NaN   \n",
       "dose                           NaN    10.617222       3.7379    1.0    10.0   \n",
       "\n",
       "                                 50%     75%     max  \n",
       "average_rating                   4.6     4.6     4.7  \n",
       "total_reviews                 3273.0  6594.0  6594.0  \n",
       "review_author                    NaN     NaN     NaN  \n",
       "reviewed_product_attribute       NaN     NaN     NaN  \n",
       "review_rating                    5.0     5.0     5.0  \n",
       "review_date                      NaN     NaN     NaN  \n",
       "review_text                      NaN     NaN     NaN  \n",
       "review_header                    NaN     NaN     NaN  \n",
       "no_of_people_reacted_helpful     1.0     2.0   970.0  \n",
       "brand                            NaN     NaN     NaN  \n",
       "dose                            10.0    12.0    20.0  "
      ]
     },
     "execution_count": 18,
     "metadata": {},
     "output_type": "execute_result"
    }
   ],
   "source": [
    "findf.describe(include='all').T"
   ]
  },
  {
   "cell_type": "code",
   "execution_count": null,
   "id": "2f67f89e-c2d8-4700-8548-44dd1da83bee",
   "metadata": {},
   "outputs": [],
   "source": []
  },
  {
   "cell_type": "code",
   "execution_count": null,
   "id": "64e98fa5-cfb8-4635-98bf-bb8833c362e9",
   "metadata": {},
   "outputs": [],
   "source": []
  },
  {
   "cell_type": "code",
   "execution_count": 19,
   "id": "23b5c202-1e78-408b-affa-a9e60a0c59a7",
   "metadata": {
    "tags": []
   },
   "outputs": [
    {
     "data": {
      "text/html": [
       "<div>\n",
       "<style scoped>\n",
       "    .dataframe tbody tr th:only-of-type {\n",
       "        vertical-align: middle;\n",
       "    }\n",
       "\n",
       "    .dataframe tbody tr th {\n",
       "        vertical-align: top;\n",
       "    }\n",
       "\n",
       "    .dataframe thead th {\n",
       "        text-align: right;\n",
       "    }\n",
       "</style>\n",
       "<table border=\"1\" class=\"dataframe\">\n",
       "  <thead>\n",
       "    <tr style=\"text-align: right;\">\n",
       "      <th></th>\n",
       "      <th>count</th>\n",
       "      <th>mean</th>\n",
       "      <th>std</th>\n",
       "      <th>min</th>\n",
       "      <th>25%</th>\n",
       "      <th>50%</th>\n",
       "      <th>75%</th>\n",
       "      <th>max</th>\n",
       "    </tr>\n",
       "    <tr>\n",
       "      <th>dose</th>\n",
       "      <th></th>\n",
       "      <th></th>\n",
       "      <th></th>\n",
       "      <th></th>\n",
       "      <th></th>\n",
       "      <th></th>\n",
       "      <th></th>\n",
       "      <th></th>\n",
       "    </tr>\n",
       "  </thead>\n",
       "  <tbody>\n",
       "    <tr>\n",
       "      <th>1.0</th>\n",
       "      <td>1300.0</td>\n",
       "      <td>3.896923</td>\n",
       "      <td>1.550829</td>\n",
       "      <td>1.0</td>\n",
       "      <td>3.0</td>\n",
       "      <td>5.0</td>\n",
       "      <td>5.0</td>\n",
       "      <td>5.0</td>\n",
       "    </tr>\n",
       "    <tr>\n",
       "      <th>10.0</th>\n",
       "      <td>7850.0</td>\n",
       "      <td>4.233121</td>\n",
       "      <td>1.343974</td>\n",
       "      <td>1.0</td>\n",
       "      <td>4.0</td>\n",
       "      <td>5.0</td>\n",
       "      <td>5.0</td>\n",
       "      <td>5.0</td>\n",
       "    </tr>\n",
       "    <tr>\n",
       "      <th>12.0</th>\n",
       "      <td>5760.0</td>\n",
       "      <td>4.235764</td>\n",
       "      <td>1.306869</td>\n",
       "      <td>1.0</td>\n",
       "      <td>4.0</td>\n",
       "      <td>5.0</td>\n",
       "      <td>5.0</td>\n",
       "      <td>5.0</td>\n",
       "    </tr>\n",
       "    <tr>\n",
       "      <th>20.0</th>\n",
       "      <td>1000.0</td>\n",
       "      <td>3.985000</td>\n",
       "      <td>1.507663</td>\n",
       "      <td>1.0</td>\n",
       "      <td>3.0</td>\n",
       "      <td>5.0</td>\n",
       "      <td>5.0</td>\n",
       "      <td>5.0</td>\n",
       "    </tr>\n",
       "  </tbody>\n",
       "</table>\n",
       "</div>"
      ],
      "text/plain": [
       "       count      mean       std  min  25%  50%  75%  max\n",
       "dose                                                     \n",
       "1.0   1300.0  3.896923  1.550829  1.0  3.0  5.0  5.0  5.0\n",
       "10.0  7850.0  4.233121  1.343974  1.0  4.0  5.0  5.0  5.0\n",
       "12.0  5760.0  4.235764  1.306869  1.0  4.0  5.0  5.0  5.0\n",
       "20.0  1000.0  3.985000  1.507663  1.0  3.0  5.0  5.0  5.0"
      ]
     },
     "execution_count": 19,
     "metadata": {},
     "output_type": "execute_result"
    }
   ],
   "source": [
    "findf.groupby('dose')['review_rating'].describe()"
   ]
  },
  {
   "cell_type": "code",
   "execution_count": null,
   "id": "9a211af7-f54f-49be-8e07-6e443e1a13d4",
   "metadata": {},
   "outputs": [],
   "source": []
  },
  {
   "cell_type": "code",
   "execution_count": null,
   "id": "0ad816ba-a2d0-4ebf-8e67-534fccf59a30",
   "metadata": {},
   "outputs": [],
   "source": []
  },
  {
   "cell_type": "code",
   "execution_count": 20,
   "id": "fadfaf6d-b90e-4acd-9482-6c78a8547045",
   "metadata": {
    "tags": []
   },
   "outputs": [
    {
     "data": {
      "image/png": "[encoded data removed]",
      "text/plain": [
       "<Figure size 900x500 with 1 Axes>"
      ]
     },
     "metadata": {},
     "output_type": "display_data"
    }
   ],
   "source": [
    "# Count plot for the counts of the brands\n",
    "plt.figure(figsize=(9,5))\n",
    "sns.countplot(x='dose', data=findf)\n",
    "plt.title('Count of Each Dose')\n",
    "plt.xlabel('Dose')\n",
    "plt.ylabel('Total count of dose')\n",
    "plt.show()"
   ]
  },
  {
   "cell_type": "markdown",
   "id": "dc0a945d-0790-4e68-b7a4-895c2be9427d",
   "metadata": {},
   "source": [
    "<h4><b>                 </b></h4>"
   ]
  },
  {
   "cell_type": "markdown",
   "id": "c3a00452-4a8a-45f4-9ba4-75fcf990e40a",
   "metadata": {},
   "source": [
    "<h4><b> At, Conclusion\n",
    "    we can see that 10 mg doses has highest count and occured most in the database which means doses that contain 10 mg are most distributed than other with count of more than 7000. 12mg has noticiable occurence with around 6000. 1 mg and 20 mg. 1 and 20 mg doses are distributed very less 1200 and 1000 accordingly  </b></h4>"
   ]
  },
  {
   "cell_type": "code",
   "execution_count": 33,
   "id": "6b111386-0937-4e00-8873-fe1df25e4190",
   "metadata": {
    "tags": []
   },
   "outputs": [
    {
     "data": {
      "text/plain": [
       "average_rating\n",
       "4.5    7300\n",
       "4.6    5150\n",
       "4.7    3460\n",
       "Name: dose, dtype: int64"
      ]
     },
     "execution_count": 33,
     "metadata": {},
     "output_type": "execute_result"
    }
   ],
   "source": [
    "findf.groupby('average_rating')['dose'].count()"
   ]
  },
  {
   "cell_type": "code",
   "execution_count": 32,
   "id": "8339ab1a-720f-43c4-8329-20ef805b9869",
   "metadata": {},
   "outputs": [
    {
     "data": {
      "image/png": "[encoded data removed]",
      "text/plain": [
       "<Figure size 800x400 with 1 Axes>"
      ]
     },
     "metadata": {},
     "output_type": "display_data"
    }
   ],
   "source": [
    "# Using Bar plot to show average rating by brands \n",
    "plt.figure(figsize=(8,4))\n",
    "sns.barplot(x='dose', y='average_rating', data=findf)\n",
    "plt.title('Average Rating by Dose')\n",
    "plt.xticks(rotation=45)\n",
    "plt.ylim(4.0, 5.0)\n",
    "plt.show()"
   ]
  },
  {
   "cell_type": "markdown",
   "id": "f7e1ae1f-c58d-4ede-b375-81ef1add9e95",
   "metadata": {},
   "source": [
    "<h4><b> Among all doses 10 mag has gained most number of rating more than 4.6 while afterwords, 12 mg doses gets 4.5 and 1 mg and 20 mg share almost eaual rating with above 4.4 and in the summary encapsulates the average user satisfaction across various melatonin dosage levels, providing insights into the perceived effectiveness of each dosage within the dataset. </b></h4>"
   ]
  },
  {
   "cell_type": "code",
   "execution_count": 69,
   "id": "6a637c8a-3288-48fc-b71f-0f3027fa4420",
   "metadata": {
    "tags": []
   },
   "outputs": [
    {
     "data": {
      "text/plain": [
       "review_rating\n",
       "1     659\n",
       "2     125\n",
       "3     205\n",
       "4     298\n",
       "5    1471\n",
       "Name: no_of_people_reacted_helpful, dtype: int64"
      ]
     },
     "execution_count": 69,
     "metadata": {},
     "output_type": "execute_result"
    }
   ],
   "source": [
    "findf.groupby('review_rating')['no_of_people_reacted_helpful'].count()"
   ]
  },
  {
   "cell_type": "code",
   "execution_count": 68,
   "id": "14a6894b-92af-4fac-a83a-28b6d0aade28",
   "metadata": {
    "tags": []
   },
   "outputs": [
    {
     "data": {
      "text/plain": [
       "<function matplotlib.pyplot.show(close=None, block=None)>"
      ]
     },
     "execution_count": 68,
     "metadata": {},
     "output_type": "execute_result"
    },
    {
     "data": {
      "image/png": "[encoded data removed]",
      "text/plain": [
       "<Figure size 900x500 with 1 Axes>"
      ]
     },
     "metadata": {},
     "output_type": "display_data"
    }
   ],
   "source": [
    "unique_doses = findf['dose'].unique()\n",
    "num_markers_needed = len(unique_doses)\n",
    "\n",
    "# Adjust the number of markers based on unique values in 'dose'\n",
    "markers = ['o', 's', 'D', '^'][:num_markers_needed]\n",
    "\n",
    "plt.figure(figsize=(9,5))\n",
    "sns.scatterplot(x='review_rating', y='no_of_people_reacted_helpful', hue='brand', style='dose', data=findf, palette='bright', alpha=0.7, markers=markers)\n",
    "plt.title('Average Rating vs. Total Reviews (Brand and Dose-wise)')\n",
    "plt.xlabel('Reviews Rating')\n",
    "plt.ylabel('helpful Reviews')\n",
    "plt.legend(title='Brand', bbox_to_anchor=(1, 1))\n",
    "plt.show"
   ]
  },
  {
   "cell_type": "markdown",
   "id": "d4c78778-8440-4e17-93d5-05109e94188b",
   "metadata": {},
   "source": [
    "<h4><b> This plot is giving outstanding analysis of reviews reactions. As we can see, most of reviews are less helpful for people. But there are few noticiable analysis that around 500 votes are for natrol's 10 mg doses for 1 reviewRating  which mean we may considered natrol's 10 mg is less effective as it has only one rating \n",
    "    while carlyle's 12 mg has mixed up helping reviews. In, last puritan's pride dose review is most helpful for people and it's has higher rating so, it may be most effective dose can be considered   \n",
    "</b></h4>"
   ]
  },
  {
   "cell_type": "code",
   "execution_count": null,
   "id": "a5a60fbb-8b89-47ae-a611-d13c1aefbf72",
   "metadata": {},
   "outputs": [],
   "source": []
  },
  {
   "cell_type": "code",
   "execution_count": null,
   "id": "ca3b0abf-844a-4c47-9f37-8f9ddb7b10b9",
   "metadata": {},
   "outputs": [],
   "source": []
  },
  {
   "cell_type": "code",
   "execution_count": 79,
   "id": "16384a76-b501-4ac0-87fa-7bca1cb6ca40",
   "metadata": {
    "tags": []
   },
   "outputs": [
    {
     "data": {
      "text/plain": [
       "dose\n",
       "1.0     1300\n",
       "10.0    7850\n",
       "12.0    5760\n",
       "20.0    1000\n",
       "Name: dose, dtype: int64"
      ]
     },
     "execution_count": 79,
     "metadata": {},
     "output_type": "execute_result"
    }
   ],
   "source": [
    "findf.groupby('dose')['dose'].count()"
   ]
  },
  {
   "cell_type": "code",
   "execution_count": 77,
   "id": "5c7bf13e-3963-466c-8b5e-675748135097",
   "metadata": {
    "tags": []
   },
   "outputs": [
    {
     "data": {
      "image/png": "[encoded data removed]",
      "text/plain": [
       "<Figure size 600x300 with 1 Axes>"
      ]
     },
     "metadata": {},
     "output_type": "display_data"
    }
   ],
   "source": [
    "plt.figure(figsize=(6,3))\n",
    "sns.histplot(findf['dose'], bins=20, kde=True,  color='red')\n",
    "plt.title('Distribution of Doses')\n",
    "plt.xlabel('Dose')\n",
    "plt.ylabel('Freq')\n",
    "plt.show()"
   ]
  },
  {
   "cell_type": "markdown",
   "id": "ce257b24-745c-4ee7-a41d-73322d6252ca",
   "metadata": {},
   "source": [
    "<h4> In this plot, distribution of doses in mg(miligram) has been  noted base on count of reviews. 10 mg distribution frequency is ighest with 7850 count, 12 mg wit 5760, 1 and 20 with 1300 and 1000 lowest counts.   </h4>"
   ]
  },
  {
   "cell_type": "code",
   "execution_count": null,
   "id": "f5131de2-3f67-4b8e-836f-bf126efd858b",
   "metadata": {},
   "outputs": [],
   "source": []
  },
  {
   "cell_type": "code",
   "execution_count": null,
   "id": "29d90a94-0ad7-4e1f-888c-11ec8ed75d4c",
   "metadata": {},
   "outputs": [],
   "source": []
  },
  {
   "cell_type": "code",
   "execution_count": null,
   "id": "682297a7-2f69-43ee-9875-7d0bdc894f3d",
   "metadata": {},
   "outputs": [],
   "source": []
  },
  {
   "cell_type": "code",
   "execution_count": null,
   "id": "7b711d0c-bad4-4793-9f2a-e8b1eb00c524",
   "metadata": {},
   "outputs": [],
   "source": []
  },
  {
   "cell_type": "code",
   "execution_count": null,
   "id": "6a744eca-dbac-403d-a0f1-62f1dc8a52ca",
   "metadata": {},
   "outputs": [],
   "source": []
  },
  {
   "cell_type": "code",
   "execution_count": 88,
   "id": "baee1c02-872e-46e2-a5a3-667c45d09e0d",
   "metadata": {
    "tags": []
   },
   "outputs": [],
   "source": [
    "findf['review_date'] = pd.to_datetime(findf['review_date'])"
   ]
  },
  {
   "cell_type": "code",
   "execution_count": 100,
   "id": "af97ce08-aee8-4934-acb4-1ab1635a581e",
   "metadata": {
    "tags": []
   },
   "outputs": [
    {
     "data": {
      "image/png": "[encoded data removed]",
      "text/plain": [
       "<Figure size 600x500 with 1 Axes>"
      ]
     },
     "metadata": {},
     "output_type": "display_data"
    }
   ],
   "source": [
    "plt.figure(figsize=(6,5))\n",
    "sns.scatterplot(x='brand', y='total_reviews', data=findf, hue='dose', palette='viridis', s=100)\n",
    "plt.title('Total Rating by Brand')\n",
    "plt.xlabel('Brand')\n",
    "plt.ylabel('Total Rating')\n",
    "plt.xticks(rotation=45)\n",
    "plt.legend(title='Dose', bbox_to_anchor=(1, 1))\n",
    "plt.show()"
   ]
  },
  {
   "cell_type": "markdown",
   "id": "51ce6f9b-c74d-4964-b4de-3fb6ef4da18d",
   "metadata": {},
   "source": [
    "<h4>Brand vs total reviews is giving us some insights such as 20 mg from Viramatic are less reviewed, In case of caryle, it's 10 mg is lowest reviewd so it may least popular or distributed while it has 12 mg doses which are most reviewed by users with around 6500 reviews and other brands such as Vitafusion has 10 mg doses which is most reviewed 10 mg dosess. while natrol and puritan's pride's 12 mg doses have been examined with 2900 and 3200 counts        </h4>"
   ]
  },
  {
   "cell_type": "code",
   "execution_count": null,
   "id": "17a116ce-d43b-4ed7-9a3b-a452d0b86dd5",
   "metadata": {},
   "outputs": [],
   "source": []
  },
  {
   "cell_type": "code",
   "execution_count": null,
   "id": "f12cc8ae-1171-49d5-b874-66628d1d9299",
   "metadata": {},
   "outputs": [],
   "source": []
  },
  {
   "cell_type": "code",
   "execution_count": null,
   "id": "30e203a6-6b6e-49f1-9454-e33468d6d4ad",
   "metadata": {},
   "outputs": [],
   "source": []
  },
  {
   "cell_type": "code",
   "execution_count": 119,
   "id": "25126597-fa05-407a-99d9-8d8c8f5cf606",
   "metadata": {
    "tags": []
   },
   "outputs": [
    {
     "data": {
      "text/plain": [
       "<pandas.core.groupby.generic.SeriesGroupBy object at 0x000001C36ED7E650>"
      ]
     },
     "execution_count": 119,
     "metadata": {},
     "output_type": "execute_result"
    }
   ],
   "source": []
  },
  {
   "cell_type": "code",
   "execution_count": 122,
   "id": "0a3038d3-c592-40ee-95b6-883f054af240",
   "metadata": {
    "tags": []
   },
   "outputs": [
    {
     "data": {
      "image/png": "[encoded data removed]",
      "text/plain": [
       "<Figure size 500x500 with 1 Axes>"
      ]
     },
     "metadata": {},
     "output_type": "display_data"
    }
   ],
   "source": [
    "doses = findf['dose']\n",
    "total_reviews_per_dose = findf.groupby('dose')['total_reviews'].sum()\n",
    "\n",
    "plt.figure(figsize=(5, 5))\n",
    "patches, _, _ = plt.pie(total_reviews_per_dose, autopct='%1.1f%%', startangle=90, labels=None)\n",
    "\n",
    "legend_labels = [f\"{dose}mg: {count}\" for dose, count in zip(total_reviews_per_dose.index, total_reviews_per_dose)]\n",
    "plt.legend(patches, legend_labels, loc='center left', bbox_to_anchor=(1, 0.5), title='Doses')\n",
    "\n",
    "plt.title('Total Reviews by Dose')\n",
    "plt.show()"
   ]
  },
  {
   "cell_type": "code",
   "execution_count": null,
   "id": "95d7cce2-8705-4946-8c09-c177bd9c3154",
   "metadata": {},
   "outputs": [],
   "source": []
  },
  {
   "cell_type": "markdown",
   "id": "b7842b7b-4bd8-4315-ba9d-68d49ac714ff",
   "metadata": {},
   "source": [
    "<h4>  The provided pivot table succinctly presents the total reviews corresponding to different dosage levels. Notably, Dose 10.0 stands out with the highest review count at 27,940,350, followed by Dose 12.0 with 33,553,680 reviews. Dose 1.0 and Dose 20.0 contribute with 1,710,800 and 1,033,000 reviews, respectively. This concise summary captures the overall review distribution across various dosage categories. </h4>"
   ]
  },
  {
   "cell_type": "code",
   "execution_count": null,
   "id": "423a7232-8367-4544-904b-0941ef32909a",
   "metadata": {},
   "outputs": [],
   "source": []
  },
  {
   "cell_type": "code",
   "execution_count": null,
   "id": "aca4bcbe-9c46-475e-8707-e8da26da8e76",
   "metadata": {},
   "outputs": [],
   "source": []
  },
  {
   "cell_type": "code",
   "execution_count": 126,
   "id": "43e215bf-8ae9-4ce0-a8ab-1102cad36728",
   "metadata": {
    "tags": []
   },
   "outputs": [
    {
     "data": {
      "image/png": "[encoded data removed]",
      "text/plain": [
       "<Figure size 900x400 with 1 Axes>"
      ]
     },
     "metadata": {},
     "output_type": "display_data"
    }
   ],
   "source": [
    "findf['review_date'] = pd.to_datetime(findf['review_date'])\n",
    "\n",
    "# Extract year from 'review_date'\n",
    "findf['review_year'] = findf['review_date'].dt.year\n",
    "\n",
    "# Create count plot\n",
    "plt.figure(figsize=(9,4))\n",
    "sns.countplot(x='review_year', data=findf)\n",
    "plt.title('Distribution of Reviews Over the Years')\n",
    "plt.xlabel('Review Year')\n",
    "plt.ylabel('Count of Reviews')\n",
    "plt.show()"
   ]
  },
  {
   "cell_type": "markdown",
   "id": "b91ec32c-fb39-4da3-a140-4f3dcbb3fd21",
   "metadata": {},
   "source": [
    "<h4> This chart provide reviews noted per year. In 2021, 2022, and 2020 has highest number of reviews collected             </h4>"
   ]
  },
  {
   "cell_type": "code",
   "execution_count": null,
   "id": "a559d6dc-d974-4389-8fc7-475546534b30",
   "metadata": {},
   "outputs": [],
   "source": []
  },
  {
   "cell_type": "code",
   "execution_count": null,
   "id": "ac80400c-08da-4989-b311-e97057245279",
   "metadata": {},
   "outputs": [],
   "source": []
  },
  {
   "cell_type": "code",
   "execution_count": null,
   "id": "79530ad0-1c69-403d-a469-3d445901972f",
   "metadata": {},
   "outputs": [],
   "source": []
  },
  {
   "cell_type": "code",
   "execution_count": null,
   "id": "c6b2df36-a669-42fe-bbea-aa0009a7538c",
   "metadata": {},
   "outputs": [],
   "source": []
  },
  {
   "cell_type": "code",
   "execution_count": null,
   "id": "64af6791-aa96-48d9-80f9-50c8cee8f1e3",
   "metadata": {},
   "outputs": [],
   "source": []
  },
  {
   "cell_type": "code",
   "execution_count": 131,
   "id": "9c11c4e3-9cba-48b2-bd13-0db2b5fdc5aa",
   "metadata": {
    "tags": []
   },
   "outputs": [
    {
     "data": {
      "image/png": "[encoded data removed]",
      "text/plain": [
       "<Figure size 1200x600 with 1 Axes>"
      ]
     },
     "metadata": {},
     "output_type": "display_data"
    }
   ],
   "source": [
    "\n",
    "time_series_data = findf.set_index('review_date')\n",
    "time_series_data.resample('M').size().plot()\n",
    "plt.title('Number of Reviews Over years')\n",
    "plt.xlabel('Date')\n",
    "plt.ylabel('Number of Reviews')\n",
    "plt.show()"
   ]
  },
  {
   "cell_type": "markdown",
   "id": "b209a48e-2214-476e-a2ec-7aea0a74667a",
   "metadata": {},
   "source": [
    "<h4> as we can see here, number of reviews were steady till 2018 with neglatable fluctuation but sudden rise happened in 2020 year and number of review reached to around 500 and followed year, highest peak of reviews frequency noted with 600 counts. This Pandemic was responsible for rise in revies as doses are purchased frequently at that time</h4>"
   ]
  }
 ],
 "metadata": {
  "kernelspec": {
   "display_name": "Python 3 (ipykernel)",
   "language": "python",
   "name": "python3"
  },
  "language_info": {
   "codemirror_mode": {
    "name": "ipython",
    "version": 3
   },
   "file_extension": ".py",
   "mimetype": "text/x-python",
   "name": "python",
   "nbconvert_exporter": "python",
   "pygments_lexer": "ipython3",
   "version": "3.11.5"
  }
 },
 "nbformat": 4,
 "nbformat_minor": 5
}
